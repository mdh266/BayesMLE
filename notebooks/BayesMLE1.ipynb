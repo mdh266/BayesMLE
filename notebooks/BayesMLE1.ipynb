{
 "cells": [
  {
   "cell_type": "markdown",
   "metadata": {},
   "source": [
    "# Frequentist & Bayesian Statistics With Py4J & PyMC3\n",
    "-----\n",
    "\n",
    "__[1. Introduction](#first-bullet)__\n",
    "\n",
    "__[2. Sampling A Distribution Written In Scala Using Py4J](#second-bullet)__\n",
    "\n",
    "__[3. The Maximum Likelyhood Estimator](#third-bullet)__\n",
    "\n",
    "__[4. Confidence Intervals From Fisher Information](#fourth-bullet)__\n",
    "\n",
    "__[5. Bayesian Esimatators & Credible Intervals With PyMC3](#fifth-bullet)__\n",
    "\n",
    "__[6. Connecting The Two Methods](#sixth-bullet)__\n",
    "\n",
    "\n",
    "## Introduction <a class=\"anchor\" id=\"first-bullet\"></a>\n",
    "-------------\n",
    "\n",
    "In this post I want to go back to the basics of statistics, but with an advanced spin on things. By \"advanced spin\" I mean, both from in terms of mathematics and computational techniques. The topic I'll dive into is:\n",
    "\n",
    "    Estimating a single parameter value from a distribution and then quantifying the uncertantity in the estimate.\n",
    "    \n",
    "In general I will take two approaches to quantitfying the uncertainity in the estimate, the first of which is [frequentist](https://en.wikipedia.org/wiki/Frequentist_inference) and second that is [Bayesian](https://en.wikipedia.org/wiki/Bayesian_statistics). I was originally inspired by [Jake VanderPlas' post](http://jakevdp.github.io/blog/2014/03/11/frequentism-and-bayesianism-a-practical-intro/) and admit, I am not very seasoned using Bayesian methods. That's why I'll be sticking to a simple example of estimating the mean rate or 𝜆 in a [Poisson distribution](https://en.wikipedia.org/wiki/Poisson_distribution#) from sampled data.  \n",
    "\n",
    "From the computational perspective, I wanted to do something different and decided to write the probability distribution for generating the data in [Scala](https://www.scala-lang.org/), but then use it with Python. Why did I do this? Well, I like Scala and enjoyed the challenge of writing a Poisson distribution using a functional approach. I also wanted to learn more about how to use [Py4J](https://www.py4j.org/) which can be used to work with functions and objects in the [JVM](https://en.wikipedia.org/wiki/Java_virtual_machine) from Python. [Apache Spark](https://spark.apache.org/) actually uses Py4J in PySpark to write Python wrappers for their Scala API. I've used both PySpark and Spark in Scala extensively in the past and doing this project gave me an opportunity to understand how PySpark works better.\n",
    "\n",
    "The source code for this project can be found [here](https://github.com/mdh266/BayesMLE).\n",
    "\n",
    "Let's get into how I wrote the Poisson distribution in Scala and used it from Python to sample data.\n",
    "\n",
    "## 2. Sampling A Distribution Written In Scala Using Py4J <a class=\"anchor\" id=\"second-bullet\"></a>\n",
    "---------------\n",
    "\n",
    "I wrote a [Poisson distribution in Scala](https://github.com/mdh266/PoissonDistributionInScala) so that I could sample data from it to estimate the mean rate $\\lambda$ of that distribution. The Poisson distribution is a probability distribution for a random variable $y \\, \\in \\, \\mathbb{Z}_{+}$ that represents some count phenomena, i.e. a number of non-negative integer occurences in some fixed time frame.  For example the number of trains passing through a station per day or the number of customers that visit a website per hour can be modeled with Poisson distribution. The mathematical form of the distribution is,\n",
    "\n",
    "$$ p(y \\, = \\, k)  \\; = \\; \\frac{\\lambda^{k} e^{-\\lambda} }{k!} $$\n",
    "\n",
    "The parameter $\\lambda \\, \\in \\, \\mathbb{R}_{+}$ is the rate variable, i.e. the true number of customers that visit the website per hour and can be any non-negative real valued number.\n",
    "\n",
    "\n",
    "The first step in this project was to create the Poisson class. I did this in a previous [project](https://github.com/mdh266/PoissonDistributionInScala), however, one key difference is for Py4J the return value of any public function needs to be Java object. Specifically the [sample](https://github.com/mdh266/BayesBootstrapMLE/blob/main/src/main/scala/Poisson.scala) method needs to return a Java List ([java.util.List[Int]](https://www.javatpoint.com/java-list)) of integers. I originally tried returning a [Scala List](https://www.scala-lang.org/api/current/scala/collection/immutable/List.html) which worked fine in pure Scala, but when returning the list to Python I got a generic \"Java Object\" and realized Py4J was only able to serialize specific datatypes between Python and the JVM.\n",
    "\n",
    "\n",
    "In order to use this class from Python with Py4J I needed to do three things to the Scala code:\n",
    "\n",
    "1. Create a [Gateway Server](https://www.py4j.org/_static/javadoc/index.html?py4j/GatewayServer.html)\n",
    "2. Create a class entrypoint to allow for setting object attributes outside of the constructor\n",
    "3. Package the code as a jar using a build tool such as [Maven](https://maven.apache.org/) or [SBT](https://www.scala-sbt.org/)\n",
    "\n",
    "\n",
    "The first step is pretty straight forward to from the [Py4J Documentation](https://www.py4j.org/getting_started.html) and is in the [Main.Scala](https://github.com/mdh266/BayesBootstrapMLE/blob/main/src/main/scala/Main.scala) object. However, in order to accommodate the use of [Docker]() I had to adapt the address for the [GatewayServer](https://www.py4j.org/_static/javadoc/index.html?py4j/GatewayServer.html) based on this [discussion on GitHub](https://github.com/bartdag/py4j/issues/360):\n",
    "\n",
    "    import java.net.InetAddress\n",
    "    import py4j.GatewayServer\n",
    "\n",
    "    object Main {\n",
    "        def main(args: Array[String]) = {\n",
    "            System.setProperty(\"java.net.preferIPv4Stack\", \"true\");\n",
    "            val addr = InetAddress.getByName(\"0.0.0.0\")\n",
    "            val app = new PoissonEntryPoint()\n",
    "            val builder = new GatewayServer.GatewayServerBuilder(app)\n",
    "            builder.javaAddress(addr);\n",
    "            val server = builder.build();\n",
    "            server.start()\n",
    "            println(\"Gateway Server Started\")\n",
    "        }\n",
    "    }\n",
    "\n",
    "The [GatewayServer](https://www.py4j.org/_static/javadoc/py4j/GatewayServer.html) in the author's own words *it allows Python programs to communicate with the JVM through a local network socket.*  The GatewayServer takes an *entrypoint* as a parameter which can be any object (see [here](https://www.py4j.org/getting_started.html#writing-the-python-program) for more info). However, the entrypoint doesn't really offer a way for us to pass the $\\lambda$ value from [Python](https://www.py4j.org/getting_started.html#writing-the-python-program) to the Poisson constructor in Scala. To get around this issue I created a [PoissonEntryPoint](https://github.com/mdh266/BayesBootstrapMLE/blob/main/src/main/scala/PoissonEntryPoint.scala) case class:\n",
    "\n",
    "    case class PoissonEntryPoint() {\n",
    "\n",
    "        def Poisson(lambda : Double) : PoissonDistribution = {\n",
    "            new PoissonDistribution(lambda)\n",
    "        }\n",
    "    }\n",
    "\n",
    "This case class really just acts a [Singleton](https://docs.scala-lang.org/tour/singleton-objects.html), but is a class instead of an object. The point of the `PoissonEntryPoint` class is simply to be able to create a Poisson class with a specific $\\lambda$ value after starting the GatewayServer.  \n",
    "\n",
    "Now let's talk about how the project is structured and how to package it for use.  The project structure is:\n",
    "\n",
    "    src/\n",
    "       main/\n",
    "           scala/\n",
    "               Main.scala\n",
    "               PoissonDistribution.scala\n",
    "               PoissonEntryPoint.scala\n",
    "    pom.xml\n",
    "    \n",
    "\n",
    "The `pom.xml` file is called the [project object model](https://maven.apache.org/guides/introduction/introduction-to-the-pom.html) and is a file that contains all the instructions for [Maven](https://maven.apache.org/). I won't go into the details here, but I will say that Maven is a Java build tool to compile and package code and [SBT](https://www.scala-sbt.org/) is the Scala equivalent build tool. Since Scala is a [JVM language](https://en.wikipedia.org/wiki/List_of_JVM_languages) we can use either build tool and I went with Maven since I'm more familiar with it and because it was much easier to find examples with Py4J using Maven than with SBT.\n",
    "\n",
    "To package the code into a [uber jar](https://stackoverflow.com/questions/11947037/what-is-an-uber-jar), use the command:\n",
    "\n",
    "    mvn package \n",
    "    \n",
    "Then we can start our our Py4J Web server with the command:\n",
    "\n",
    "    java -jar target/poisson-1.0-jar-with-dependencies.jar\n",
    "    \n",
    "We can test that the server is running on the default port 25333 on your local machine with the command,\n",
    "\n",
    "    nc -vz 0.0.0.0 25333\n",
    "    \n",
    "You should see,\n",
    "    \n",
    "    Connection to 0.0.0.0 port 25333 [tcp/*] succeeded!\n",
    "\n",
    "Now we can start up our Jupyter notebook and connect Python to the JVM with the following code taken directly from [Py4J's](https://www.py4j.org/index.html#) home page. This involves setting up the [JavaGatway](https://www.py4j.org/py4j_java_gateway.html) which is the *main interaction point between a Python VM and a JVM*. When running on your local machine this is simple, however, in order to use the my Poisson Distribution and Jupyter Lab within [Docker Compose](https://docs.docker.com/compose/) I had to pass the appropriate [GatewayParameters](https://www.py4j.org/py4j_java_gateway.html#py4j.java_gateway.GatewayParameters) which specify the address for the Scala [GatewayServer](https://www.py4j.org/_static/javadoc/py4j/GatewayServer.html) (the `py4jserver` service in Docker compose) and the port it uses. In addition I had to pass the [CallbackServerParameters](https://www.py4j.org/py4j_java_gateway.html#py4j.java_gateway.CallbackServerParameters) which specify the address for this notebook (the `jupyter` service in Docker compose) as well as the port it uses. \n",
    "\n",
    "The callback server allows the JVM to call back Python objects as discussed [here](https://www.py4j.org/advanced_topics.html#implementing-java-interfaces-from-python-callback).  I definitely had to have an friend that knows DevOps help figure this one out, but it doesnt add too much complexity to the basic Py4J example:"
   ]
  },
  {
   "cell_type": "code",
   "execution_count": 2,
   "metadata": {},
   "outputs": [],
   "source": [
    "from py4j.java_gateway import JavaGateway, GatewayParameters, CallbackServerParameters\n",
    "\n",
    "gateway = JavaGateway(\n",
    "    gateway_parameters=GatewayParameters(address='py4jserver', port=25333),\n",
    "    callback_server_parameters=CallbackServerParameters(address='jupyter', port=25334)\n",
    ")\n",
    "\n",
    "app = gateway.entry_point"
   ]
  },
  {
   "cell_type": "markdown",
   "metadata": {},
   "source": [
    "The app is now the instantiated [PoissonEntryPoint class](https://github.com/mdh266/BayesMLE/blob/main/src/main/scala/PoissonEntryPoint.scala).  We can see the class type in Python"
   ]
  },
  {
   "cell_type": "code",
   "execution_count": 2,
   "metadata": {},
   "outputs": [
    {
     "data": {
      "text/plain": [
       "py4j.java_gateway.JavaObject"
      ]
     },
     "execution_count": 2,
     "metadata": {},
     "output_type": "execute_result"
    }
   ],
   "source": [
    "type(app)"
   ]
  },
  {
   "cell_type": "markdown",
   "metadata": {},
   "source": [
    "As well as looking at the methods for the class:"
   ]
  },
  {
   "cell_type": "code",
   "execution_count": 3,
   "metadata": {},
   "outputs": [
    {
     "data": {
      "text/plain": [
       "['Poisson',\n",
       " 'apply',\n",
       " 'canEqual',\n",
       " 'copy',\n",
       " 'equals',\n",
       " 'getClass',\n",
       " 'hashCode',\n",
       " 'notify',\n",
       " 'notifyAll',\n",
       " 'productArity',\n",
       " 'productElement',\n",
       " 'productIterator',\n",
       " 'productPrefix',\n",
       " 'toString',\n",
       " 'unapply',\n",
       " 'wait']"
      ]
     },
     "execution_count": 3,
     "metadata": {},
     "output_type": "execute_result"
    }
   ],
   "source": [
    "dir(app)"
   ]
  },
  {
   "cell_type": "markdown",
   "metadata": {},
   "source": [
    "We can see `Poisson` class method! Since PoissonEntryPoint is a [case class](https://docs.scala-lang.org/tour/case-classes.html) it comes with a number of default methods just like a [data class](https://realpython.com/python-data-classes/) in Python.\n",
    "\n",
    "We can then create a Poisson class instance and see that the value of $\\lambda$ is 3.0:"
   ]
  },
  {
   "cell_type": "code",
   "execution_count": 4,
   "metadata": {},
   "outputs": [],
   "source": [
    "p1 = app.Poisson(1.0)"
   ]
  },
  {
   "cell_type": "markdown",
   "metadata": {},
   "source": [
    "We can then instantiate another Poisson object:"
   ]
  },
  {
   "cell_type": "code",
   "execution_count": 5,
   "metadata": {},
   "outputs": [],
   "source": [
    "p2 = app.Poisson(3.0)"
   ]
  },
  {
   "cell_type": "markdown",
   "metadata": {},
   "source": [
    "Note that the [PoissonEntryPoint](https://github.com/mdh266/BayesBootstrapMLE/blob/main/src/main/scala/PoissonEntryPoint.scala) class has a function `Poisson` that returns a specific [PoissonDistribution](https://github.com/mdh266/BayesBootstrapMLE/blob/main/src/main/scala/PoissonDistribution.scala) object that was initailized with the value $\\lambda$. It is important that $\\lambda$ is not an attribute of the [PoissonEntryPoint](https://github.com/mdh266/BayesBootstrapMLE/blob/main/src/main/scala/PoissonEntryPoint.scala) othwerwise we would not get the seperate values of $\\lambda$'s:"
   ]
  },
  {
   "cell_type": "code",
   "execution_count": 6,
   "metadata": {},
   "outputs": [
    {
     "data": {
      "text/plain": [
       "1.0"
      ]
     },
     "execution_count": 6,
     "metadata": {},
     "output_type": "execute_result"
    }
   ],
   "source": [
    "p1.getLambda()"
   ]
  },
  {
   "cell_type": "code",
   "execution_count": 7,
   "metadata": {},
   "outputs": [
    {
     "data": {
      "text/plain": [
       "3.0"
      ]
     },
     "execution_count": 7,
     "metadata": {},
     "output_type": "execute_result"
    }
   ],
   "source": [
    "p2.getLambda()"
   ]
  },
  {
   "cell_type": "markdown",
   "metadata": {},
   "source": [
    "The really nice thing about Py4J *is that you can treat objects in the JVM as if they are Python objects.* For instance we can see the methods in the object:"
   ]
  },
  {
   "cell_type": "code",
   "execution_count": 8,
   "metadata": {},
   "outputs": [
    {
     "data": {
      "text/plain": [
       "['$anonfun$cdf$1',\n",
       " '$anonfun$getSum$1',\n",
       " '$anonfun$invCDF$1',\n",
       " '$anonfun$invCDF$2',\n",
       " '$anonfun$invCDF$3',\n",
       " '$anonfun$invCDF$4',\n",
       " '$anonfun$sample$1',\n",
       " '$anonfun$uniform$1',\n",
       " '$lessinit$greater$default$1',\n",
       " 'cdf',\n",
       " 'equals',\n",
       " 'getClass',\n",
       " 'getLambda',\n",
       " 'getSum',\n",
       " 'hashCode',\n",
       " 'invCDF',\n",
       " 'notify',\n",
       " 'notifyAll',\n",
       " 'prob',\n",
       " 'sample',\n",
       " 'setLambda',\n",
       " 'toString',\n",
       " 'uniform',\n",
       " 'wait']"
      ]
     },
     "execution_count": 8,
     "metadata": {},
     "output_type": "execute_result"
    }
   ],
   "source": [
    "dir(p1)"
   ]
  },
  {
   "cell_type": "markdown",
   "metadata": {},
   "source": [
    "We can then just use the methods in the [PoissonDistribution](https://github.com/mdh266/BayesBootstrapMLE/blob/main/src/main/scala/PoissonDistribution.scala) object just like they would be used directly in Scala. For instance we can get the probability of $y=1$ when $\\lambda = 3$:"
   ]
  },
  {
   "cell_type": "code",
   "execution_count": 9,
   "metadata": {},
   "outputs": [
    {
     "data": {
      "text/plain": [
       "0.36787944117144233"
      ]
     },
     "execution_count": 9,
     "metadata": {},
     "output_type": "execute_result"
    }
   ],
   "source": [
    "p1.prob(1)"
   ]
  },
  {
   "cell_type": "markdown",
   "metadata": {},
   "source": [
    "Now let's generate a random samle from the Poisson object:"
   ]
  },
  {
   "cell_type": "code",
   "execution_count": 6,
   "metadata": {},
   "outputs": [],
   "source": [
    "sample = p1.sample(1000)"
   ]
  },
  {
   "cell_type": "code",
   "execution_count": 11,
   "metadata": {},
   "outputs": [
    {
     "data": {
      "text/plain": [
       "[2, 1, 1]"
      ]
     },
     "execution_count": 11,
     "metadata": {},
     "output_type": "execute_result"
    }
   ],
   "source": [
    "sample[:3]"
   ]
  },
  {
   "cell_type": "markdown",
   "metadata": {},
   "source": [
    "It looks like Py4J returns a Python list while the [PoissonDistribution class](https://github.com/mdh266/BayesBootstrapMLE/blob/main/src/main/scala/PoissonDistribution.scala) returns a  `java.util.List[Int]`:"
   ]
  },
  {
   "cell_type": "code",
   "execution_count": 12,
   "metadata": {},
   "outputs": [
    {
     "data": {
      "text/plain": [
       "py4j.java_collections.JavaList"
      ]
     },
     "execution_count": 12,
     "metadata": {},
     "output_type": "execute_result"
    }
   ],
   "source": [
    "type(sample)"
   ]
  },
  {
   "cell_type": "markdown",
   "metadata": {},
   "source": [
    "We can then convert it to a Python list"
   ]
  },
  {
   "cell_type": "code",
   "execution_count": 13,
   "metadata": {},
   "outputs": [
    {
     "data": {
      "text/plain": [
       "list"
      ]
     },
     "execution_count": 13,
     "metadata": {},
     "output_type": "execute_result"
    }
   ],
   "source": [
    "type(list(sample))"
   ]
  },
  {
   "cell_type": "markdown",
   "metadata": {},
   "source": [
    "Py4J can only serialize specific Java objects back to Python, but I think that's still awesome!  This is also why I needed to convert to from a Scala `List[Int]` to a `java.util.List[Int]`, without it the returned object would just be a generic `Java Object` and I wouldnt be able to access its contents.\n",
    "\n",
    "Now let's visualize the Poission distribution for different values of $\\lambda$"
   ]
  },
  {
   "cell_type": "code",
   "execution_count": 30,
   "metadata": {},
   "outputs": [
    {
     "data": {
      "text/plain": [
       "<seaborn.axisgrid.FacetGrid at 0x7fb35e47ef90>"
      ]
     },
     "execution_count": 30,
     "metadata": {},
     "output_type": "execute_result"
    },
    {
     "data": {
      "image/png": "[encoded data removed]",
      "text/plain": [
       "<Figure size 405.375x360 with 1 Axes>"
      ]
     },
     "metadata": {
      "needs_background": "light"
     },
     "output_type": "display_data"
    }
   ],
   "source": [
    "import pandas as pd\n",
    "import seaborn as sns\n",
    "\n",
    "df = pd.melt(\n",
    "        pd.DataFrame({\n",
    "            '1':list(app.Poisson(1.0).sample(100)),\n",
    "            '2':list(app.Poisson(2.0).sample(100)),\n",
    "            '3':list(app.Poisson(3.0).sample(100)),\n",
    "            '4':list(app.Poisson(4.0).sample(100)),\n",
    "            '5':list(app.Poisson(5.0).sample(100)),\n",
    "            '6':list(app.Poisson(6.0).sample(100))\n",
    "        }),\n",
    "        var_name=[\"lambda\"]\n",
    ")\n",
    "\n",
    "sns.displot(df, x=\"value\", hue=\"lambda\", kind='kde', height=5)"
   ]
  },
  {
   "cell_type": "markdown",
   "metadata": {},
   "source": [
    "Note that the negative values are not real and an artifact caused by interpolation with [Kernel Density Esimation](https://en.wikipedia.org/wiki/Kernel_density_estimation), same with the wiggles.\n",
    "\n",
    "We can verify this the former,"
   ]
  },
  {
   "cell_type": "code",
   "execution_count": 31,
   "metadata": {},
   "outputs": [
    {
     "data": {
      "text/html": [
       "<div>\n",
       "<style scoped>\n",
       "    .dataframe tbody tr th:only-of-type {\n",
       "        vertical-align: middle;\n",
       "    }\n",
       "\n",
       "    .dataframe tbody tr th {\n",
       "        vertical-align: top;\n",
       "    }\n",
       "\n",
       "    .dataframe thead th {\n",
       "        text-align: right;\n",
       "    }\n",
       "</style>\n",
       "<table border=\"1\" class=\"dataframe\">\n",
       "  <thead>\n",
       "    <tr style=\"text-align: right;\">\n",
       "      <th></th>\n",
       "      <th>lambda</th>\n",
       "      <th>value</th>\n",
       "    </tr>\n",
       "  </thead>\n",
       "  <tbody>\n",
       "  </tbody>\n",
       "</table>\n",
       "</div>"
      ],
      "text/plain": [
       "Empty DataFrame\n",
       "Columns: [lambda, value]\n",
       "Index: []"
      ]
     },
     "execution_count": 31,
     "metadata": {},
     "output_type": "execute_result"
    }
   ],
   "source": [
    "df.query(\"value < 0\")"
   ]
  },
  {
   "cell_type": "markdown",
   "metadata": {},
   "source": [
    "Now let's get into the Maximum Likelyhood Estimator for $\\lambda$ using the distribution `p1`."
   ]
  },
  {
   "cell_type": "markdown",
   "metadata": {},
   "source": [
    "## 3. The Maximum Likelyhood Estimator <a class=\"anchor\" id=\"third-bullet\"></a>\n",
    "---------- \n",
    "\n",
    "First what is the difference between a statistic and an estimator?  A **statistic** is any function of a sample.  An **estimator** is any function of a sample that is used to estimate a population parameter.  The **maximum likelyhood estimator** is the value of a population distribution $\\lambda$ that maximizes the probability of observing the sample.  \n",
    "\n",
    "\n",
    "We can find the MLE from a random sample $y_1, y_2, \\, \\ldots \\,, y_{n}$ from $f(y \\, \\vert \\, \\lambda)$ by defining the **likelyhood function**,\n",
    "\n",
    "$$ L(\\lambda  \\, \\vert \\, y_1, \\, y_2, \\, \\ldots, \\, y_n)  \\; = \\; \\prod_{i=1}^{n}f(y_{i} \\, \\vert \\, \\lambda) $$\n",
    "\n",
    "\n",
    "Then we can find the MLE $\\widehat{\\lambda}$ such that, \n",
    "\n",
    "$$ \n",
    "\\hat{\\lambda}_{n} \\; = \\; \\max_{\\lambda} \\, L(\\lambda \\, \\vert \\, y_1, y_2, \\ldots, \\, y_n)\n",
    "$$\n",
    "\n",
    "From calculus we know that we can find the maximum (or minimum) of any function by solving,\n",
    "\n",
    "$$ \n",
    "\\frac{\\partial L(\\lambda \\, \\vert y_1, y_2, \\ldots, y_n)}{\\partial \\lambda}  \\; = \\; 0 \n",
    "$$\n",
    "\n",
    "\n",
    "for $\\lambda$.  The MLE has many important properties, the most important in my mind are some are,\n",
    "\n",
    "1. It is a consistent estimator.\n",
    "2. It is invariant, so that if $\\widehat{\\lambda}$ is the MLE for $\\lambda$, then for any function $\\tau(\\lambda)$, the MLE for $\\tau(\\lambda)$ is $\\tau(\\widehat{\\lambda})$.\n",
    "3. The MLE is an asymptotically normal estimator.  That is $\\widehat{\\lambda} \\; \\sim \\; N(\\lambda, \\, \\mathcal{I}^{-1})$. \n",
    "\n",
    "To explain the first property we, must note that since an estimator is a function of the sample space, it is also a [random variable](https://en.wikipedia.org/wiki/Random_variable).  Let $X_1, \\, \\ldots, \\, X_n$ be a sequence of random variables then $X_{i} \\; \\xrightarrow{\\mathcal{P}} \\; X$ if,\n",
    "\n",
    "$$\\forall \\epsilon > 0, \\; \\lim\\limits_{n \\rightarrow \\infty} P(\\vert X_i - X \\vert > \\epsilon ) \\; = \\; 0$$ \n",
    "\n",
    "then we say the random variable [converges in probability](https://en.wikipedia.org/wiki/Convergence_of_random_variables). For an estimator this property of convergence is called **consistency**. Consistency is a necessary condition of any estimator in statistics and basically signifies that estimator eventually settles down to constant or some distribution of values. \n",
    "\n",
    "The second property of the MLE allows us to transform our likelyhood function into one that is often easier to calculate the MLE with, i.e. the log-likelyhood function. That is the MLE, $\\hat{\\lambda}$ will satisfy, \n",
    "\n",
    "$$ \\frac{\\partial \\log(L(\\lambda \\, \\vert y_1, \\, \\ldots, y_n ))}{\\partial \\lambda}  \\; = \\; 0 $$\n",
    "\n",
    "\n",
    "The third property of the MLE, of asymptotic normality, is helpful in modeling since your standardized residuals are normal. Hence the sum of squares of the residuals are $\\chi^2$ distributed.  This allows us to define confidence intervals around of estimates. The term $\\mathcal{I}$ is the [Fisher Information](https://en.wikipedia.org/wiki/Fisher_information) and will be discussed in the next section.\n",
    "\n",
    "\n",
    "For the Poisson distribution the likelyhood function is,\n",
    "\n",
    "$$\n",
    "\\begin{align} L(\\lambda  \\, \\vert y_1, \\, y_2, \\, \\ldots, \\, y_n)  \n",
    "\\; &= \\; \n",
    "\\prod_{i=1}^{n} \\frac{e^{-\\lambda} \\, \\lambda^{y_i}} {y_i!} \\newline\n",
    "&= \\; \n",
    "e^{-n \\, \\lambda} \\lambda^{n \\, \\bar{y}_{n}}  \\frac{1} {\\prod_{i=1}^{n} y_i!}\n",
    "\\end{align}\n",
    "$$\n",
    "\n",
    "We take the log of both sides and then setting the derivative equal to zero we find\n",
    "\n",
    "\n",
    "$$\n",
    "- n  \\,  + \\, \\frac{n \\, \\bar{y}_{n}}{\\widehat{\\lambda}} \\, = \\, 0\n",
    "$$\n",
    "\n",
    "Then solving for $\\hat{\\lambda}$ we find the MLE is,\n",
    "\n",
    "\n",
    "$$ \\widehat{\\lambda} \\, = \\, \\bar{y}_{n} $$\n"
   ]
  },
  {
   "cell_type": "code",
   "execution_count": 9,
   "metadata": {},
   "outputs": [
    {
     "name": "stdout",
     "output_type": "stream",
     "text": [
      "lambda = 2.97\n"
     ]
    }
   ],
   "source": [
    "from typing import List\n",
    "\n",
    "def mle(sample: List[int]) -> float:\n",
    "    converted = list(sample)\n",
    "    return sum(converted) / len(converted)\n",
    "\n",
    "lam = mle(p2.sample(1000))\n",
    "\n",
    "print(f\"lambda = {lam}\") "
   ]
  },
  {
   "cell_type": "markdown",
   "metadata": {},
   "source": [
    "Our estimate for $\\lambda$ is pretty close to the true value of 3 which is correct for `p2`! \n",
    "\n",
    "Now, since the maximum likelihood estimator is the mean we know it satifies the [Central Limit Theorem](https://en.wikipedia.org/wiki/Central_limit_theorem),\n",
    "\n",
    "\n",
    "$$ \\hat{\\lambda} _{n}\\, = \\, \\bar{y}_{n} \\; \\xrightarrow{\\mathcal{D}} \\; N(\\lambda,\\lambda/n) $$\n",
    "\n",
    "Hence we can repeatedly sample `p2` and compute the distribution of the MLE for various values of sample size $n$ to show how the MLE converges in distribution."
   ]
  },
  {
   "cell_type": "code",
   "execution_count": 8,
   "metadata": {},
   "outputs": [],
   "source": [
    "import numpy as np"
   ]
  },
  {
   "cell_type": "code",
   "execution_count": 72,
   "metadata": {},
   "outputs": [],
   "source": [
    "# sample the MLE 100 times for each n = 10, 50, 100, 500, 1000\n",
    "samples = [ [ mle(p2.sample(n)) for k in range(100)] for n in [10, 20, 50, 100, 200, 500, 1000]]"
   ]
  },
  {
   "cell_type": "code",
   "execution_count": 73,
   "metadata": {},
   "outputs": [
    {
     "data": {
      "text/plain": [
       "<seaborn.axisgrid.FacetGrid at 0x7ff00dba4090>"
      ]
     },
     "execution_count": 73,
     "metadata": {},
     "output_type": "execute_result"
    },
    {
     "data": {
      "image/png": "[encoded data removed]",
      "text/plain": [
       "<Figure size 421.5x360 with 1 Axes>"
      ]
     },
     "metadata": {
      "needs_background": "light"
     },
     "output_type": "display_data"
    }
   ],
   "source": [
    "sample_df = pd.melt(\n",
    "                pd.DataFrame(np.array(samples).T, \n",
    "                             columns=['10', '20', '50','100', '200', '500', '1000']),\n",
    "                var_name=[\"n\"]\n",
    ")\n",
    "\n",
    "# # plot the MLE for various value of sample size\n",
    "sns.displot(sample_df, x=\"value\", hue=\"n\", kind=\"kde\", height=5,)"
   ]
  },
  {
   "cell_type": "markdown",
   "metadata": {},
   "source": [
    "As $n \\rightarrow \\infty$ we see the MLE $\\bar{y}_{n}$ has a distribution that is more sharply peaked around $3$ and hence shows that the esimator is converging to the true value!\n",
    "\n",
    "We have seen that the MLE $\\hat{\\lambda}_{n}$ converges to the true value of $\\lambda$, but for any finite value of $n$ the esimator can be incorrect.  How do we measure our confidence in our estimae $\\hat{\\lambda}_{n}$?  The answer is using [confidence intervals](https://en.wikipedia.org/wiki/Confidence_interval)."
   ]
  },
  {
   "cell_type": "markdown",
   "metadata": {},
   "source": [
    "## 3. Confidence Intervals From Fisher Information <a class=\"anchor\" id=\"fourth-bullet\"></a>\n",
    "-------------------\n",
    "Given a distribution $y_{i} \\, \\sim \\, f(y \\, \\vert \\, \\alpha)$ for $i \\, = \\, 1, \\ldots , n$ and the likelyhood function,\n",
    "\n",
    "$$ L(\\alpha \\, \\vert \\, y_1, y_2, \\ldots, y_n) \\; = \\; \\prod_{i=1}^{n} \\,  f(y_i \\, \\vert \\, \\alpha) $$\n",
    "\n",
    "We define the [score statistic](https://en.wikipedia.org/wiki/Score_(statistics)) $S(\\alpha)$ to be,\n",
    "\n",
    "$$\n",
    "S(\\alpha) \\; = \\; \\frac{d\\log \\left(L(\\alpha \\, \\vert  \\, y_1, y_2, \\ldots, y_n) \\right)}{d\\alpha} \n",
    "$$\n",
    "\n",
    "For a distribution from the [exponential family](https://en.wikipedia.org/wiki/Exponential_family) the score function satisfies,\n",
    "\n",
    "$$\n",
    "E_{y}[S] \\; = \\; 0\n",
    "$$\n",
    "\n",
    "Another important property of the score statistic is that it satisfies,\n",
    "\n",
    "$$ S(\\widehat{\\alpha})  \\; = \\; 0$$\n",
    "\n",
    "for the MLE $\\widehat{\\alpha}$.  This property can be used to compute the MLE using the so-called [scoring algorithm](https://en.wikipedia.org/wiki/Scoring_algorithm) which is equivalent to [Newton–Raphson method](https://en.wikipedia.org/wiki/Newton%27s_method). The later method is more frequently used in calculations as it is a general optimization method and has many efficient implmentations.\n",
    "\n",
    "The [Fisher information](https://en.wikipedia.org/wiki/Fisher_information) is defined as,\n",
    "\n",
    "\\begin{align}\n",
    "\\mathcal{I} \\; &= \\; \\text{Cov}[S] \\\\\n",
    "& = \\; \\text{Var}[ S S^{T}] \\\\\n",
    "& = \\; E_y[ - S'] \\\\\n",
    " &= \\; - E_{y} \\left[ \\frac{d^{2}\\log \\left(L(\\alpha \\, | \\, y_1, y_2, \\ldots, y_n) \\right)}{d\\alpha^{2}}  \\right] \n",
    "\\end{align}\n",
    "\n",
    "One can show that the standard error for the maximum likelihood estimate $(\\widehat{\\alpha})$ will then be,\n",
    "\n",
    "$$ \\text{S.E.}(\\widehat{\\alpha}) \\; = \\; \\mathcal{I}^{-1/2}$$\n",
    "\n",
    "\n",
    "The curvature of the log-likelyhood at the MLE dictated by the Fisher information. If $L$ flat then the $\\mathcal{I}$ is small, so the MLE is not stable or well-defined.  Larger Fisher information tells us the MLE is well defined and stable.\n",
    "\n",
    "\n",
    "Asymptotic normality for the MLE implies,\n",
    "\n",
    "\\begin{equation}\n",
    " \\widehat{\\alpha} \\; \\sim \\; N(\\alpha, \\, \\mathcal{I}^{-1})\n",
    "\\end{equation}\n",
    "\n",
    "These facts can be used to calculate confidence intervals for the MLE,\n",
    "\n",
    "$$\\text{CI}_{\\alpha} \\, = \\, [ \\widehat{\\alpha} - Z_{\\alpha/2} \\, \\mathcal{I}^{-1}/\\sqrt{n}, \\, \\widehat{\\alpha} + Z_{\\alpha/2} \\, \\mathcal{I}^{-1} /\\sqrt{n}]$$\n",
    "\n",
    "\n",
    "The Fisher information for a Poisson distribution is,\n",
    "\n",
    "$$ \\mathcal{I} \\, = \\, 1/\\lambda $$\n",
    "\n",
    "This means for our MLE of the Poisson distribution the confidence interval will be: \n",
    "\n",
    "$$\\text{CI}_{\\hat{\\lambda}} \\, = \\, [ \\bar{y}_{n} - Z_{\\alpha/2} \\, \\sqrt{\\bar{y}_{n} / n}, \\, \\bar{y}_{n} + Z_{\\alpha/2} \\, \\sqrt{\\bar{y}_{n}/ n}]$$\n",
    "\n",
    "\n",
    "We can then come up with a functin to compute the 94% confidence interval (most people choose 95%, but to be consistent with PyMC we use 94%) for the sample:"
   ]
  },
  {
   "cell_type": "code",
   "execution_count": 10,
   "metadata": {},
   "outputs": [],
   "source": [
    "from typing import Tuple \n",
    "\n",
    "def ci(sample: List[int]) -> Tuple[float,float]:\n",
    "    \"\"\"\n",
    "    Computes the 94% confidence interval for sampled\n",
    "    data from a Poisson distribution\n",
    "    \"\"\"\n",
    "    z = 1.88\n",
    "    m = mle(sample)\n",
    "    n = len(sample)\n",
    "    return (m - z*np.sqrt(m/n), m + z*np.sqrt(m/n))"
   ]
  },
  {
   "cell_type": "markdown",
   "metadata": {},
   "source": [
    "We can then get the MLE for the sampled data from Poisson(1.0)"
   ]
  },
  {
   "cell_type": "code",
   "execution_count": 11,
   "metadata": {},
   "outputs": [
    {
     "data": {
      "text/plain": [
       "0.995"
      ]
     },
     "execution_count": 11,
     "metadata": {},
     "output_type": "execute_result"
    }
   ],
   "source": [
    "mle(sample)"
   ]
  },
  {
   "cell_type": "markdown",
   "metadata": {},
   "source": [
    "The 94% confidence interval is then,"
   ]
  },
  {
   "cell_type": "code",
   "execution_count": 12,
   "metadata": {},
   "outputs": [
    {
     "data": {
      "text/plain": [
       "(0.9356979932885909, 1.054302006711409)"
      ]
     },
     "execution_count": 12,
     "metadata": {},
     "output_type": "execute_result"
    }
   ],
   "source": [
    "ci(sample)"
   ]
  },
  {
   "cell_type": "markdown",
   "metadata": {},
   "source": [
    "We can see that the confidence interval does contain the true $\\lambda \\, = \\, 1$. Many people think a 94% confidence interval, $\\text{CI}_{94}$, can be used to say that there is a 94% probability that the true $\\lambda$ is in the confidence interval $\\text{CI}_{94}$.  This interpetation is wrong, in frequentist methods, the parameter $\\lambda$ is assumed to be a fixed, but unknown value. One cannot make probability statements about fixed values. \n",
    "\n",
    "The confidence interval is a function of the sample space and therefore a random variable. One can make probability statements about the confidence intervals. Indeed the correct interpretation is that if you are able to repeatedly re-sample the population distribution $f(y \\, \\vert \\, \\lambda)$ to form many confidence intervals $\\text{CI}_{94}$, 94% of them would contain the true population parameter $\\lambda$.\n",
    "\n",
    "We can test this by creating a function which returns a boolean indicating whether or not the parameter `lam` is contained in the 94% confidence interval from the data `sample`:"
   ]
  },
  {
   "cell_type": "code",
   "execution_count": 13,
   "metadata": {},
   "outputs": [],
   "source": [
    "def in_ci(lam: float, sample:  List[int]) -> bool:\n",
    "    interval = ci(sample)\n",
    "    return (lam >= interval[0] and lam <= interval[1])"
   ]
  },
  {
   "cell_type": "markdown",
   "metadata": {},
   "source": [
    "We can then test this function:"
   ]
  },
  {
   "cell_type": "code",
   "execution_count": 14,
   "metadata": {},
   "outputs": [
    {
     "data": {
      "text/plain": [
       "True"
      ]
     },
     "execution_count": 14,
     "metadata": {},
     "output_type": "execute_result"
    }
   ],
   "source": [
    "in_ci(1, sample)"
   ]
  },
  {
   "cell_type": "code",
   "execution_count": 46,
   "metadata": {},
   "outputs": [
    {
     "data": {
      "text/plain": [
       "False"
      ]
     },
     "execution_count": 46,
     "metadata": {},
     "output_type": "execute_result"
    }
   ],
   "source": [
    "in_ci(3, sample)"
   ]
  },
  {
   "cell_type": "markdown",
   "metadata": {},
   "source": [
    "Then we can loop over 1,000 confidence interval to see how many times they capture the true rate parameter:"
   ]
  },
  {
   "cell_type": "code",
   "execution_count": 48,
   "metadata": {},
   "outputs": [
    {
     "name": "stdout",
     "output_type": "stream",
     "text": [
      "Confidence interval captures true rate 94.3% of times\n"
     ]
    }
   ],
   "source": [
    "count_in_ci = [1 if in_ci(1, p1.sample(1000)) else 0 for i in range(1000)]\n",
    "print(\"Confidence interval captures true rate {}% of times\".format(100*sum(count_in_ci)/len(count_in_ci)))"
   ]
  },
  {
   "cell_type": "markdown",
   "metadata": {},
   "source": [
    "This is nearly spot on to what the theory says!  Let's now move on to Bayesian methods!\n",
    "\n",
    "# Bayesian Esimatators & Credible Intervals With PyMC3 <a class=\"anchor\" id=\"fifth-bullet\"></a>\n",
    "-----------\n",
    "\n",
    "In the frequentist approach the parameter we wish to estimation $\\lambda$ is fixed, but unknown.  The observed data $\\left\\{ y_1, y_2, \\ldots, y_n \\right\\}$ is assumed to be from a population $f(y \\, \\vert \\, \\lambda)$ and estimates about the value of the population paremeter $\\lambda$ is obtained by using the maximum likelyhood. As we discussed above, probability statements about the unknown rate constant $\\lambda$ don't make sense as its a fixed value and not random variable.  However, probability statements can be made about a confidence interval for $\\lambda$. In the maximum likelyhood method, asympotic normality allows us to use confidence intervals as a way to quantify the uncertaintity in our estimator which was calculated from the data.\n",
    "\n",
    "In contrast, in Bayesian statistics, $\\lambda$ is not a fixed value, but assumed to have values coming from a probability distribution called the [prior](https://en.wikipedia.org/wiki/Prior_probability) $P(\\lambda)$. This is often subjective and the choice of distribution for the prior often comes from domain knowledge.  The observed data $\\left\\{ y_1, y_2, \\ldots, y_n \\right\\}$ is a sample taken from a population and used to update the prior distribution, now called the [posterior distribution](https://en.wikipedia.org/wiki/Posterior_distribution), $P(\\lambda \\, \\vert \\, y_1, y_2, \\ldots, y_n )$. **Now we can formulate estimators for $\\lambda$ and quanitify the uncertaintity in those esimates by directly using the posterior distribution.**\n",
    "\n",
    "Let $P(y_1, y_2, \\ldots, y_n \\, \\vert \\, \\lambda )$ be the sampling distribution then [Baye's theorem](https://en.wikipedia.org/wiki/Bayes%27_theorem) states,\n",
    "\n",
    "$$ P(\\lambda \\, \\vert \\, y_1, y_2, \\ldots, y_n)\n",
    " \\; = \\; \n",
    "\\frac{ P ( y_1, y_2, \\ldots, y_n \\, \\vert \\, \\lambda) \\, P(\\lambda)}{m(y_1, y_2, \\ldots, y_n)}, \\quad \\text{and} \\qquad m(y_1, y_2, \\ldots, y_n) \\; = \\; \\int P ( y_1, y_2, \\ldots, y_n\\, \\vert \\, \\lambda) \\, P(\\lambda) \\, d\\lambda\n",
    "$$\n",
    " \n",
    "\n",
    "Where $m(y_1, y_2, \\ldots, y_n)$ is called the marginal distribution and used for normalization. Bayes rule can also be rewritten as using the joint distibution $P(\\lambda,\\, y_1, y_2, \\ldots, y_n)$:\n",
    "\n",
    "\n",
    "$$ P(\\lambda \\, \\vert \\, y_1, y_2, \\ldots, y_n)\n",
    " \\; = \\; \n",
    "\\frac{ P(\\lambda , y_1, y_2, \\ldots, y_n)}{m(y_1, y_2, \\ldots, y_n)}\n",
    "$$\n",
    "\n",
    "The [Bayesian estimator](https://en.wikipedia.org/wiki/Bayes_estimator) (often called the posterior mean) is taken the be the expected value over the the random variable $y$:\n",
    " \n",
    "$$ \\widehat{\\lambda} \\; = \\; E_{\\lambda \\, \\vert \\, y}(\\lambda \\, \\vert \\, y_1, y_2, \\ldots, y_n)$$\n",
    " \n",
    "\n",
    "Until the advant of computers, statisticians were stuck with using [conjugate priors](https://en.wikipedia.org/wiki/Conjugate_prior) in Bayesian methods since there are analytic solutions for the posterior distribution.\n",
    "\n",
    "The conjugate prior for a Poisson distribution is a [Gamma distributed](https://en.wikipedia.org/wiki/Gamma_distribution) which for $\\alpha, \\beta > 0$ takes the form:\n",
    "\n",
    "$$\n",
    "P(\\lambda \\, \\vert \\, \\alpha, \\beta ) \\; = \\; \\frac{\\beta^{\\alpha }}{(\\alpha-1)! }  \\, x^{\\alpha-1} \\, e^{-\\beta y}\n",
    "$$\n",
    "\n",
    "A depiction of the Gamma distribution for various values of $\\alpha$ and $\\beta$ can be seen from [PyMC3's website](https://docs.pymc.io/api/distributions/continuous.html#pymc3.distributions.continuous.Gamma).\n",
    "\n",
    "![](https://docs.pymc.io/api/distributions/continuous-6.png)\n",
    "\n",
    "Then the posterior is [again a Gamma distribution](https://people.stat.sc.edu/Hitchcock/slides535day5spr2014.pdf), but with $\\alpha^{\\prime} \\, = \\, \\alpha \\, + \\, n$ and $\\beta^{\\prime}  \\, = \\, \\bar{y}_{n}, \\,  \\beta \\, + \\, n$. This leads to a posterior mean,\n",
    "\n",
    "\n",
    "$$\\hat{\\lambda} \\; = \\; \\frac{\\alpha}{\\beta \\, + \\, n} \n",
    "\\, + \\, \\frac{ \\bar{y}_{n}}{1 \\, + \\, \\beta \\, / \\, n\\, }$$\n",
    "\n",
    "We can see that with little data (small $n$) our estimate we are closer to the prior mean ($\\frac{\\alpha}{\\beta}$) while with lots of data (large $n$) we move towards the average $\\bar{y}_{n}$.  \n",
    "\n",
    "Let's see this convergence for ourselves! We can define the posterior mean function:"
   ]
  },
  {
   "cell_type": "code",
   "execution_count": 15,
   "metadata": {},
   "outputs": [],
   "source": [
    "def posterior_mean(alpha: float, beta: float , sample: List[int]) -> float:\n",
    "    n = len(sample)\n",
    "    m = sum(sample) / n\n",
    "    \n",
    "    return alpha / (beta + n) + m  / (1 + beta / n)"
   ]
  },
  {
   "cell_type": "markdown",
   "metadata": {},
   "source": [
    "Then define a 1,000 random samples of various sizes:"
   ]
  },
  {
   "cell_type": "code",
   "execution_count": 16,
   "metadata": {},
   "outputs": [],
   "source": [
    "from random import randint\n",
    "nums_samples = [randint(2,1000) for i in range(1000)]\n",
    "nums_samples.sort()"
   ]
  },
  {
   "cell_type": "markdown",
   "metadata": {},
   "source": [
    "We can the calculate and plot the posterior mean for the [Poisson-Gamma model](https://people.stat.sc.edu/Hitchcock/slides535day5spr2014.pdf)  using the data and $\\alpha \\, = \\, 1$ and $\\beta \\, = \\, 3$,"
   ]
  },
  {
   "cell_type": "code",
   "execution_count": 18,
   "metadata": {},
   "outputs": [],
   "source": [
    "alpha = 3.0\n",
    "beta = 1.0"
   ]
  },
  {
   "cell_type": "code",
   "execution_count": 218,
   "metadata": {},
   "outputs": [
    {
     "data": {
      "text/plain": [
       "<AxesSubplot:title={'center':'Covergence of Posterior Mean'}, xlabel='sample_size'>"
      ]
     },
     "execution_count": 218,
     "metadata": {},
     "output_type": "execute_result"
    },
    {
     "data": {
      "image/png": "[encoded data removed]",
      "text/plain": [
       "<Figure size 432x288 with 1 Axes>"
      ]
     },
     "metadata": {
      "needs_background": "light"
     },
     "output_type": "display_data"
    }
   ],
   "source": [
    "samples = [ posterior_mean(alpha=alpha, beta=beta, sample = p1.sample(n)) \n",
    "           for n in nums_samples]\n",
    "\n",
    "(pd.DataFrame({\n",
    "    \"posterior_mean\":samples, \n",
    "    \"sample_size\":nums_samples\n",
    "}).plot(x=\"sample_size\", \n",
    "        y=\"posterior_mean\", \n",
    "        title=\"Covergence of Posterior Mean\", \n",
    "        ylim=(0,1.75)))"
   ]
  },
  {
   "cell_type": "markdown",
   "metadata": {},
   "source": [
    "Now let's talk about the confidence of this estimate. The anology of confidence in Bayesian esimation is called the [credible Interval](https://en.wikipedia.org/wiki/Credible_interval) which requires the full posterior. I wrote a function to plot the posterior for the sample from `p1` below:"
   ]
  },
  {
   "cell_type": "code",
   "execution_count": 19,
   "metadata": {},
   "outputs": [
    {
     "data": {
      "image/png": "[encoded data removed]",
      "text/plain": [
       "<Figure size 432x288 with 1 Axes>"
      ]
     },
     "metadata": {
      "needs_background": "light"
     },
     "output_type": "display_data"
    }
   ],
   "source": [
    "from gamma import posterior_distribution\n",
    "\n",
    "posterior_distribution(alpha, beta, sample)"
   ]
  },
  {
   "cell_type": "markdown",
   "metadata": {},
   "source": [
    "As we saw the Bayesian estimator requires the full posterior distribution. Without a conjugate prior Bayesian methods requires numerical approximation to the posterior which computationally expenisve. Despite the added complexity, Bayesian methods allow us to handle situations where we might not have much data and can often lead us to estimates with smaller variance. \n",
    "\n",
    "One approach to approximating the posterior distribution is to randomly sample the the prior distribution and then evaluate the joint distribution of the data. Once we have the posterior distribution we can then evaluate the expected value of $\\lambda$.  One common method for random sampling is [Markov Chain Monte Carlo Methods](https://en.wikipedia.org/wiki/Markov_chain_Monte_Carlo) and Bayesian-MCMC methods can be used easily with [PyMC](https://docs.pymc.io/)!  \n",
    "\n",
    "We begin by importing the library"
   ]
  },
  {
   "cell_type": "code",
   "execution_count": 23,
   "metadata": {},
   "outputs": [],
   "source": [
    "import pymc3 as pm"
   ]
  },
  {
   "cell_type": "markdown",
   "metadata": {},
   "source": [
    "Then define the model as the same Poisson-Gamma above, and sample it 5,000 times to get the expected mean:"
   ]
  },
  {
   "cell_type": "code",
   "execution_count": 21,
   "metadata": {},
   "outputs": [
    {
     "name": "stderr",
     "output_type": "stream",
     "text": [
      "Auto-assigning NUTS sampler...\n",
      "Initializing NUTS using jitter+adapt_diag...\n",
      "Sequential sampling (2 chains in 1 job)\n",
      "NUTS: [λ]\n"
     ]
    },
    {
     "data": {
      "text/html": [
       "\n",
       "    <div>\n",
       "        <style>\n",
       "            /* Turns off some styling */\n",
       "            progress {\n",
       "                /* gets rid of default border in Firefox and Opera. */\n",
       "                border: none;\n",
       "                /* Needs to be in here for Safari polyfill so background images work as expected. */\n",
       "                background-size: auto;\n",
       "            }\n",
       "            .progress-bar-interrupted, .progress-bar-interrupted::-webkit-progress-bar {\n",
       "                background: #F44336;\n",
       "            }\n",
       "        </style>\n",
       "      <progress value='7000' class='' max='7000' style='width:300px; height:20px; vertical-align: middle;'></progress>\n",
       "      100.00% [7000/7000 00:14<00:00 Sampling chain 0, 0 divergences]\n",
       "    </div>\n",
       "    "
      ],
      "text/plain": [
       "<IPython.core.display.HTML object>"
      ]
     },
     "metadata": {},
     "output_type": "display_data"
    },
    {
     "data": {
      "text/html": [
       "\n",
       "    <div>\n",
       "        <style>\n",
       "            /* Turns off some styling */\n",
       "            progress {\n",
       "                /* gets rid of default border in Firefox and Opera. */\n",
       "                border: none;\n",
       "                /* Needs to be in here for Safari polyfill so background images work as expected. */\n",
       "                background-size: auto;\n",
       "            }\n",
       "            .progress-bar-interrupted, .progress-bar-interrupted::-webkit-progress-bar {\n",
       "                background: #F44336;\n",
       "            }\n",
       "        </style>\n",
       "      <progress value='7000' class='' max='7000' style='width:300px; height:20px; vertical-align: middle;'></progress>\n",
       "      100.00% [7000/7000 00:14<00:00 Sampling chain 1, 0 divergences]\n",
       "    </div>\n",
       "    "
      ],
      "text/plain": [
       "<IPython.core.display.HTML object>"
      ]
     },
     "metadata": {},
     "output_type": "display_data"
    },
    {
     "name": "stderr",
     "output_type": "stream",
     "text": [
      "Sampling 2 chains for 2_000 tune and 5_000 draw iterations (4_000 + 10_000 draws total) took 29 seconds.\n"
     ]
    }
   ],
   "source": [
    "with pm.Model() as model_1:\n",
    "    λ = pm.Gamma('λ', alpha=3, beta=1)\n",
    "    y = pm.Poisson('y', mu=λ, observed=list(sample))\n",
    "    trace = pm.sample(5000, tune=2000, return_inferencedata=True)"
   ]
  },
  {
   "cell_type": "markdown",
   "metadata": {},
   "source": [
    "We can then view the poserior distribution using the [ArviZ](https://arviz-devs.github.io/arviz/) library:"
   ]
  },
  {
   "cell_type": "code",
   "execution_count": 24,
   "metadata": {},
   "outputs": [
    {
     "data": {
      "text/plain": [
       "<AxesSubplot:title={'center':'λ'}>"
      ]
     },
     "execution_count": 24,
     "metadata": {},
     "output_type": "execute_result"
    },
    {
     "data": {
      "image/png": "[encoded data removed]",
      "text/plain": [
       "<Figure size 432x288 with 1 Axes>"
      ]
     },
     "metadata": {
      "needs_background": "light"
     },
     "output_type": "display_data"
    }
   ],
   "source": [
    "import arviz as az\n",
    "az.plot_posterior(trace)"
   ]
  },
  {
   "cell_type": "markdown",
   "metadata": {},
   "source": [
    "Same as before with the analytical posterior.\n",
    "\n",
    "We should note that **Bayesian estimators are ALWAYS biased due to their choice of prior**, however, they can reduce the variance in our estimators.  This is will become evident in the next example where we show that another area where Bayesian method shine is when you have a limited amount of data, but a lot of domain knowledge.  \n",
    "\n",
    "Say we only have 20 sample points, we can calculate the MLE:"
   ]
  },
  {
   "cell_type": "code",
   "execution_count": 36,
   "metadata": {},
   "outputs": [
    {
     "data": {
      "text/plain": [
       "1.0526315789473684"
      ]
     },
     "execution_count": 36,
     "metadata": {},
     "output_type": "execute_result"
    }
   ],
   "source": [
    "mle(sample[-20:-1])"
   ]
  },
  {
   "cell_type": "markdown",
   "metadata": {},
   "source": [
    "Not too bad! However, the confidence interval is quite large,"
   ]
  },
  {
   "cell_type": "code",
   "execution_count": 37,
   "metadata": {},
   "outputs": [
    {
     "data": {
      "text/plain": [
       "(0.6101254949789889, 1.4951376629157478)"
      ]
     },
     "execution_count": 37,
     "metadata": {},
     "output_type": "execute_result"
    }
   ],
   "source": [
    "ci(sample[-20:-1])"
   ]
  },
  {
   "cell_type": "markdown",
   "metadata": {},
   "source": [
    "Let's define our model to be a Poisson-Exponential model where the prior distribution is an [exponential distribution](https://en.wikipedia.org/wiki/Exponential_distribution) pictured below from PyMC3 site:\n",
    "\n",
    "![](https://docs.pymc.io/api/distributions/continuous-5.png)\n",
    "\n",
    "Inconventially, these distributons both use $\\lambda$ for their paramaters. Using a larger $\\lambda$ in a prior gives us a larger sample space while a smaller $\\lambda$ in the prior gives us a smaller sampling space. Let's choose a define the prior $\\exp(-1)$ and sample it using MCMC methods 500 times.  We can then plot the posterior and the sampling space using the [plot_trace](https://arviz-devs.github.io/arviz/api/generated/arviz.plot_trace.html) method:"
   ]
  },
  {
   "cell_type": "code",
   "execution_count": 39,
   "metadata": {},
   "outputs": [
    {
     "name": "stderr",
     "output_type": "stream",
     "text": [
      "Auto-assigning NUTS sampler...\n",
      "Initializing NUTS using jitter+adapt_diag...\n",
      "Multiprocess sampling (2 chains in 2 jobs)\n",
      "NUTS: [λ]\n"
     ]
    },
    {
     "data": {
      "text/html": [
       "\n",
       "    <div>\n",
       "        <style>\n",
       "            /* Turns off some styling */\n",
       "            progress {\n",
       "                /* gets rid of default border in Firefox and Opera. */\n",
       "                border: none;\n",
       "                /* Needs to be in here for Safari polyfill so background images work as expected. */\n",
       "                background-size: auto;\n",
       "            }\n",
       "            .progress-bar-interrupted, .progress-bar-interrupted::-webkit-progress-bar {\n",
       "                background: #F44336;\n",
       "            }\n",
       "        </style>\n",
       "      <progress value='5000' class='' max='5000' style='width:300px; height:20px; vertical-align: middle;'></progress>\n",
       "      100.00% [5000/5000 00:11<00:00 Sampling 2 chains, 0 divergences]\n",
       "    </div>\n",
       "    "
      ],
      "text/plain": [
       "<IPython.core.display.HTML object>"
      ]
     },
     "metadata": {},
     "output_type": "display_data"
    },
    {
     "name": "stderr",
     "output_type": "stream",
     "text": [
      "Sampling 2 chains for 2_000 tune and 500 draw iterations (4_000 + 1_000 draws total) took 12 seconds.\n"
     ]
    },
    {
     "data": {
      "text/plain": [
       "array([[<AxesSubplot:title={'center':'λ'}>,\n",
       "        <AxesSubplot:title={'center':'λ'}>]], dtype=object)"
      ]
     },
     "execution_count": 39,
     "metadata": {},
     "output_type": "execute_result"
    },
    {
     "data": {
      "image/png": "[encoded data removed]",
      "text/plain": [
       "<Figure size 864x144 with 2 Axes>"
      ]
     },
     "metadata": {
      "needs_background": "light"
     },
     "output_type": "display_data"
    }
   ],
   "source": [
    "with pm.Model() as model_2:\n",
    "    λ = pm.Exponential('λ', 1)\n",
    "    y = pm.Poisson('y', mu=λ, observed=list(sample[-20:-1]))\n",
    "    trace2 = pm.sample(500, tune=2000, cores=2, return_inferencedata=True)\n",
    "\n",
    "az.plot_trace(trace2, var_names=['λ'])"
   ]
  },
  {
   "cell_type": "markdown",
   "metadata": {},
   "source": [
    "We can then calculate the credible region and expected value"
   ]
  },
  {
   "cell_type": "code",
   "execution_count": 41,
   "metadata": {},
   "outputs": [
    {
     "data": {
      "text/html": [
       "<div>\n",
       "<style scoped>\n",
       "    .dataframe tbody tr th:only-of-type {\n",
       "        vertical-align: middle;\n",
       "    }\n",
       "\n",
       "    .dataframe tbody tr th {\n",
       "        vertical-align: top;\n",
       "    }\n",
       "\n",
       "    .dataframe thead th {\n",
       "        text-align: right;\n",
       "    }\n",
       "</style>\n",
       "<table border=\"1\" class=\"dataframe\">\n",
       "  <thead>\n",
       "    <tr style=\"text-align: right;\">\n",
       "      <th></th>\n",
       "      <th>mean</th>\n",
       "      <th>sd</th>\n",
       "      <th>hdi_3%</th>\n",
       "      <th>hdi_97%</th>\n",
       "    </tr>\n",
       "  </thead>\n",
       "  <tbody>\n",
       "    <tr>\n",
       "      <th>λ</th>\n",
       "      <td>1.037</td>\n",
       "      <td>0.231</td>\n",
       "      <td>0.662</td>\n",
       "      <td>1.488</td>\n",
       "    </tr>\n",
       "  </tbody>\n",
       "</table>\n",
       "</div>"
      ],
      "text/plain": [
       "    mean     sd  hdi_3%  hdi_97%\n",
       "λ  1.037  0.231   0.662    1.488"
      ]
     },
     "execution_count": 41,
     "metadata": {},
     "output_type": "execute_result"
    }
   ],
   "source": [
    "az.summary(trace2, kind=\"stats\")"
   ]
  },
  {
   "cell_type": "markdown",
   "metadata": {},
   "source": [
    "Nearly the same as MLE, but we can see that the posterior isn't very well defined using only 500 MCMC steps. We can see that there seems to be some [autocorrelation in the sample space](https://www.coursera.org/lecture/introduction-to-pymc3/autocorrelation-and-effective-sample-size-YSW3x).\n"
   ]
  },
  {
   "cell_type": "code",
   "execution_count": 42,
   "metadata": {},
   "outputs": [
    {
     "data": {
      "text/plain": [
       "array([<AxesSubplot:title={'center':'λ\\n0'}>,\n",
       "       <AxesSubplot:title={'center':'λ\\n1'}>], dtype=object)"
      ]
     },
     "execution_count": 42,
     "metadata": {},
     "output_type": "execute_result"
    },
    {
     "data": {
      "image/png": "[encoded data removed]",
      "text/plain": [
       "<Figure size 993.6x331.2 with 2 Axes>"
      ]
     },
     "metadata": {
      "needs_background": "light"
     },
     "output_type": "display_data"
    }
   ],
   "source": [
    "az.plot_autocorr(trace2)"
   ]
  },
  {
   "cell_type": "markdown",
   "metadata": {},
   "source": [
    "Let's bump that up to 10,000 to see how the distribution looks, "
   ]
  },
  {
   "cell_type": "code",
   "execution_count": 43,
   "metadata": {},
   "outputs": [
    {
     "name": "stderr",
     "output_type": "stream",
     "text": [
      "Auto-assigning NUTS sampler...\n",
      "Initializing NUTS using jitter+adapt_diag...\n",
      "Multiprocess sampling (2 chains in 2 jobs)\n",
      "NUTS: [λ]\n"
     ]
    },
    {
     "data": {
      "text/html": [
       "\n",
       "    <div>\n",
       "        <style>\n",
       "            /* Turns off some styling */\n",
       "            progress {\n",
       "                /* gets rid of default border in Firefox and Opera. */\n",
       "                border: none;\n",
       "                /* Needs to be in here for Safari polyfill so background images work as expected. */\n",
       "                background-size: auto;\n",
       "            }\n",
       "            .progress-bar-interrupted, .progress-bar-interrupted::-webkit-progress-bar {\n",
       "                background: #F44336;\n",
       "            }\n",
       "        </style>\n",
       "      <progress value='24000' class='' max='24000' style='width:300px; height:20px; vertical-align: middle;'></progress>\n",
       "      100.00% [24000/24000 00:31<00:00 Sampling 2 chains, 0 divergences]\n",
       "    </div>\n",
       "    "
      ],
      "text/plain": [
       "<IPython.core.display.HTML object>"
      ]
     },
     "metadata": {},
     "output_type": "display_data"
    },
    {
     "name": "stderr",
     "output_type": "stream",
     "text": [
      "Sampling 2 chains for 2_000 tune and 10_000 draw iterations (4_000 + 20_000 draws total) took 32 seconds.\n"
     ]
    },
    {
     "data": {
      "text/plain": [
       "array([[<AxesSubplot:title={'center':'λ'}>,\n",
       "        <AxesSubplot:title={'center':'λ'}>]], dtype=object)"
      ]
     },
     "execution_count": 43,
     "metadata": {},
     "output_type": "execute_result"
    },
    {
     "data": {
      "image/png": "[encoded data removed]",
      "text/plain": [
       "<Figure size 864x144 with 2 Axes>"
      ]
     },
     "metadata": {
      "needs_background": "light"
     },
     "output_type": "display_data"
    }
   ],
   "source": [
    "with model_2:\n",
    "    trace3 = pm.sample(10000, tune=2000, cores=2, return_inferencedata=True)\n",
    "\n",
    "az.plot_trace(trace3, var_names=['λ'])"
   ]
  },
  {
   "cell_type": "markdown",
   "metadata": {},
   "source": [
    "We can see the posterior is pretty well defined, with a little skew right. Let's get the expected mean and credible interval:"
   ]
  },
  {
   "cell_type": "code",
   "execution_count": 44,
   "metadata": {},
   "outputs": [
    {
     "data": {
      "text/html": [
       "<div>\n",
       "<style scoped>\n",
       "    .dataframe tbody tr th:only-of-type {\n",
       "        vertical-align: middle;\n",
       "    }\n",
       "\n",
       "    .dataframe tbody tr th {\n",
       "        vertical-align: top;\n",
       "    }\n",
       "\n",
       "    .dataframe thead th {\n",
       "        text-align: right;\n",
       "    }\n",
       "</style>\n",
       "<table border=\"1\" class=\"dataframe\">\n",
       "  <thead>\n",
       "    <tr style=\"text-align: right;\">\n",
       "      <th></th>\n",
       "      <th>mean</th>\n",
       "      <th>sd</th>\n",
       "      <th>hdi_3%</th>\n",
       "      <th>hdi_97%</th>\n",
       "    </tr>\n",
       "  </thead>\n",
       "  <tbody>\n",
       "    <tr>\n",
       "      <th>λ</th>\n",
       "      <td>1.048</td>\n",
       "      <td>0.229</td>\n",
       "      <td>0.62</td>\n",
       "      <td>1.468</td>\n",
       "    </tr>\n",
       "  </tbody>\n",
       "</table>\n",
       "</div>"
      ],
      "text/plain": [
       "    mean     sd  hdi_3%  hdi_97%\n",
       "λ  1.048  0.229    0.62    1.468"
      ]
     },
     "execution_count": 44,
     "metadata": {},
     "output_type": "execute_result"
    }
   ],
   "source": [
    "az.summary(trace3, kind=\"stats\")"
   ]
  },
  {
   "cell_type": "markdown",
   "metadata": {},
   "source": [
    "The Bayesian in method in this case isnt much better than the MLE, but credible interval is more narrow than the confidence interval.\n",
    "\n",
    "We can also see the mode of the posterior distribution is pretty much over 1.0 which is the correct value for our parameter.\n",
    "\n",
    "Using the posterior mode is called the [Maximum A-Posteriori (MAP)](https://en.wikipedia.org/wiki/Maximum_a_posteriori_estimation) and we can see the calculated value below,\n",
    " "
   ]
  },
  {
   "cell_type": "code",
   "execution_count": 45,
   "metadata": {},
   "outputs": [
    {
     "data": {
      "text/html": [
       "\n",
       "    <div>\n",
       "        <style>\n",
       "            /* Turns off some styling */\n",
       "            progress {\n",
       "                /* gets rid of default border in Firefox and Opera. */\n",
       "                border: none;\n",
       "                /* Needs to be in here for Safari polyfill so background images work as expected. */\n",
       "                background-size: auto;\n",
       "            }\n",
       "            .progress-bar-interrupted, .progress-bar-interrupted::-webkit-progress-bar {\n",
       "                background: #F44336;\n",
       "            }\n",
       "        </style>\n",
       "      <progress value='6' class='' max='6' style='width:300px; height:20px; vertical-align: middle;'></progress>\n",
       "      100.00% [6/6 00:00<00:00 logp = -26.451, ||grad|| = 6.1371]\n",
       "    </div>\n",
       "    "
      ],
      "text/plain": [
       "<IPython.core.display.HTML object>"
      ]
     },
     "metadata": {},
     "output_type": "display_data"
    },
    {
     "name": "stdout",
     "output_type": "stream",
     "text": [
      "\n"
     ]
    },
    {
     "data": {
      "text/plain": [
       "{'λ_log__': array(-1.70517194e-07), 'λ': array(0.99999983)}"
      ]
     },
     "execution_count": 45,
     "metadata": {},
     "output_type": "execute_result"
    }
   ],
   "source": [
    "pm.find_MAP(model=model_2)"
   ]
  },
  {
   "cell_type": "markdown",
   "metadata": {},
   "source": [
    "That's really good for only 20 data points!! "
   ]
  },
  {
   "cell_type": "markdown",
   "metadata": {},
   "source": [
    "# Connecting The Two Methods <a class=\"anchor\" id=\"sixth-bullet\"></a>\n",
    "------\n",
    "\n",
    "Another way to rewrite Baye's formula is in terms of the Likelyhood functions, $L(\\lambda \\, \\vert \\,  y_1, y_2, \\ldots, y_n)$\n",
    "\n",
    "\n",
    "$$ P(\\lambda \\, \\vert \\, y_1, y_2, \\ldots, y_n)\n",
    " \\; = \\; \n",
    "\\frac{ L(\\lambda \\, \\vert \\,  y_1, y_2, \\ldots, y_n) \\, P(\\lambda)}{m(y_1, y_2, \\ldots, y_n)}\n",
    "$$\n",
    "\n",
    "\n",
    "Choosing a constant prior $C$ or uniform ($U(\\theta)$ so long $\\theta \\, \\geq \\, \\lambda$) the MAP is the same as the MLE:\n",
    "\n",
    "\n",
    "$$ \\max_{\\lambda} \\, P(\\lambda \\, \\vert \\, y_1, y_2, \\ldots, y_n)\n",
    " \\; = \\; \n",
    "\\frac{1}{m(y_1, y_2, \\ldots, y_n)} \\, \\max_{\\lambda} \\, L(\\lambda \\, \\vert \\,  y_1, y_2, \\ldots, y_n)\n",
    "$$\n",
    "\n",
    "\n",
    "We can show this by choosing the prior as a $U(10)$:"
   ]
  },
  {
   "cell_type": "code",
   "execution_count": 47,
   "metadata": {},
   "outputs": [
    {
     "data": {
      "text/html": [
       "\n",
       "    <div>\n",
       "        <style>\n",
       "            /* Turns off some styling */\n",
       "            progress {\n",
       "                /* gets rid of default border in Firefox and Opera. */\n",
       "                border: none;\n",
       "                /* Needs to be in here for Safari polyfill so background images work as expected. */\n",
       "                background-size: auto;\n",
       "            }\n",
       "            .progress-bar-interrupted, .progress-bar-interrupted::-webkit-progress-bar {\n",
       "                background: #F44336;\n",
       "            }\n",
       "        </style>\n",
       "      <progress value='8' class='' max='8' style='width:300px; height:20px; vertical-align: middle;'></progress>\n",
       "      100.00% [8/8 00:00<00:00 logp = -70.371, ||grad|| = 37.5]\n",
       "    </div>\n",
       "    "
      ],
      "text/plain": [
       "<IPython.core.display.HTML object>"
      ]
     },
     "metadata": {},
     "output_type": "display_data"
    },
    {
     "name": "stdout",
     "output_type": "stream",
     "text": [
      "\n"
     ]
    },
    {
     "data": {
      "text/plain": [
       "{'λ_interval__': array(-2.14006616), 'λ': array(1.05263158)}"
      ]
     },
     "execution_count": 47,
     "metadata": {},
     "output_type": "execute_result"
    }
   ],
   "source": [
    "with pm.Model() as model_3:\n",
    "    λ = pm.Uniform('λ', lower=0, upper=10)\n",
    "    y = pm.Poisson('y', mu=λ, observed=list(sample[-20:-1]))\n",
    "    \n",
    "pm.find_MAP(model=model_3)"
   ]
  },
  {
   "cell_type": "markdown",
   "metadata": {},
   "source": [
    "This the the same value as the MLE! \n",
    "\n",
    "The [Bernstein-von Miss Theorem](\n",
    "https://en.wikipedia.org/wiki/Bernstein%E2%80%93von_Mises_theorem) shows that in the limit of large data Bayesian estimators and Maximum Likelyhood estimators converge to the same thing.\n",
    "\n",
    "In this post I covered maximum likelyhood estimators and Bayesian point estimators on data that was sampled using a Poisson distribution writen in Scala using [Py4J](https://www.py4j.org/).\n",
    "\n",
    "I hope you enjoyed it!"
   ]
  }
 ],
 "metadata": {
  "kernelspec": {
   "display_name": "Python 3",
   "language": "python",
   "name": "python3"
  },
  "language_info": {
   "codemirror_mode": {
    "name": "ipython",
    "version": 3
   },
   "file_extension": ".py",
   "mimetype": "text/x-python",
   "name": "python",
   "nbconvert_exporter": "python",
   "pygments_lexer": "ipython3",
   "version": "3.7.6"
  }
 },
 "nbformat": 4,
 "nbformat_minor": 4
}
