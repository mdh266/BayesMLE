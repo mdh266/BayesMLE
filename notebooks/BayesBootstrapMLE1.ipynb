{
 "cells": [
  {
   "cell_type": "markdown",
   "metadata": {},
   "source": [
    "# Bayesian Vs Frequentist Estimators \n",
    "-----\n",
    "\n",
    "\n",
    "\n",
    "why Poisson(2).prob(2) == Poisson(2).prob(3)?\n",
    "\n",
    "__[1. Introduction](#first-bullet)__\n",
    "\n",
    "__[2. Sampling A Distribution Written In Scala Using Python With Py4J](#second-bullet)__\n",
    "\n",
    "__[3. The Maximum Likelyhood Estimator](#third-bullet)__\n",
    "\n",
    "__[4. Confidence Intervals From The Fisher Information](#fourth-bullet)__\n",
    "\n",
    "__[5. Bayesian Esimatators With PyMC3](#fifth-bullet)__\n",
    "\n",
    "__[6. Credible Intervals](#sixth-bullet)__\n",
    "\n",
    "\n",
    "## Introduction <a class=\"anchor\" id=\"first-bullet\"></a>\n",
    "-------------\n",
    "\n",
    "In this post I want to go back to the basics of statistics, but from an advanced view point. By \"advanced view point\" I mean, both from a mathematical and technical point of view. My object is to go back to the basics of \n",
    "\n",
    "    Estimating a single parameter value from a distribution and then quantifying the uncertantity in the estimate using a few methods.\n",
    "    \n",
    "In general I will take two approaches to this, one of which is [frequentist](https://en.wikipedia.org/wiki/Frequentist_inference) and one that is [Bayesian](https://en.wikipedia.org/wiki/Bayesian_statistics).  I'll admit now, I am not as familar with Bayesian methods and that's why I'll be sticking to a simple example of estimating the mean rate or $\\lambda$ in a [Poisson distribution](https://en.wikipedia.org/wiki/Poisson_distribution#) from sampled data. I don't believe one approach to statistics is inherently better than the other, but have found so-called frequentist for me to be easier to understand, easier to implement and additionally I found Fisherian approaches satisfying from a mathematical point of view.\n",
    "\n",
    "From the technical side, I wanted to do something different decided to write the distribution for generating data in [Scala](https://www.scala-lang.org/) and use that distribution from Python. But why did I write my distribution in Scala? Well, I like Scala and enjoyed the challenge of writing a Poisson distribution using a functional approach. I also wanted to learn more about how to use [Py4J](https://www.py4j.org/) which can be used to work with functions and objects in the [JVM](https://en.wikipedia.org/wiki/Java_virtual_machine) from Python. [Apache Spark](https://spark.apache.org/) actually uses Py4J in PySpark to write Python wrappers for Scala code. I've used both PySpark and Spark in Scala and this gave me an opportunity to understand how PySpark works better.\n",
    "\n",
    "Let's get into how I wrote the Poisson distribution in Scala and used it to sample data from in Python.\n",
    "\n",
    "## 2. Sampling A Distribution Written In Scala Using Python With Py4J <a class=\"anchor\" id=\"second-bullet\"></a>\n",
    "---------------\n",
    "\n",
    "The first thing I need is data from a Poisson distribution to estimate the mean rate $\\lambda$ and for that purpose I wrote a [Poisson distribution in Scala](https://github.com/mdh266/PoissonDistributionInScala). The Poisson distribution is a probability distribution for a random variable $y$ that represents some count phenomena, i.e. a number of non-zero integer occurences in some fixed time frame.  For example the number of trains passing through a station per day or the number of customers that visit a website per hour are governed by Poisson distribution. The disibution is,\n",
    "\n",
    "$$ p(y \\, = \\, k)  \\; = \\; \\frac{\\lambda^{k} e^{-\\lambda} }{k!} $$\n",
    "\n",
    "The parameter $\\lambda$ is the rate variable, i.e. the true number of customers that visit the website per hour.\n",
    "\n",
    "The first step was to create the Poisson class. I did this in a previous [project](https://github.com/mdh266/PoissonDistributionInScala), however, one key difference is the return value of any public value needs to be Java object. Specifically the [sample](https://github.com/mdh266/BayesBootstrapMLE/blob/main/src/main/scala/Poisson.scala) method needs to return a Java List ([java.util.List[Int]](https://www.javatpoint.com/java-list)) of integers. I originally tried returning a [Scala List](https://www.scala-lang.org/api/current/scala/collection/immutable/List.html) which worked fine in pure Scala, but when Py4J was not able to serialize this object so well and Python type of returned list was \"Java Object\".\n",
    "\n",
    "In order to use this class from Python we need to do three things from the Scala point of view:\n",
    "\n",
    "1. Create a [Gateway Server](https://www.py4j.org/_static/javadoc/index.html?py4j/GatewayServer.html)\n",
    "2. Create a class entrypoint to allow for setting object attributes outside of the constructor\n",
    "3. Package the code as a jar using a build tool such as [Maven](https://maven.apache.org/) or [SBT](https://www.scala-sbt.org/)\n",
    "\n",
    "\n",
    "The first step is pretty straight forward to from the [Py4J Documentation](https://www.py4j.org/getting_started.html) and is in the [Main.Scala](https://github.com/mdh266/BayesBootstrapMLE/blob/main/src/main/scala/Main.scala) object:\n",
    "\n",
    "    import py4j.GatewayServer\n",
    "\n",
    "    object Main {\n",
    "        def main(args: Array[String]) = {\n",
    "            val server = new GatewayServer(new PoissonEntryPoint())\n",
    "            server.start()\n",
    "            System.out.println(\"Gateway Server Started\")\n",
    "        }\n",
    "    }\n",
    "    \n",
    "The GatewayServer in the author's own words *it allows Python programs to communicate with the JVM through a local network socket.*  The GatewayServer takes an *entrypoint* as a parameter which can be any object, see [here](https://www.py4j.org/getting_started.html#writing-the-python-program).  However, the entrypoint doesn't really offer a way for us to pass the $\\lambda$ value from [Python](https://www.py4j.org/getting_started.html#writing-the-python-program) to the Poisson constructor in Scala. To get around this issue I created a [PoissonEntryPoint](https://github.com/mdh266/BayesBootstrapMLE/blob/main/src/main/scala/PoissonEntryPoint.scala) case class:\n",
    "\n",
    "    case class PoissonEntryPoint() {\n",
    "\n",
    "        def Poisson(lambda : Double) : PoissonDistribution = {\n",
    "            new PoissonDistribution()\n",
    "        }\n",
    "    }\n",
    "\n",
    "This case class really just acts a [Singleton](https://docs.scala-lang.org/tour/singleton-objects.html), but is a class instead of an object. The point of the `PoissonEntryPoint` class is simply to be able to create a Poisson class with a specific $\\lambda$ value after starting the GatewayServer.  \n",
    "\n",
    "Now let's talk about how the project structure and packaging it for use.  The project structure is:\n",
    "\n",
    "    src/\n",
    "       main/\n",
    "           scala/\n",
    "               Main.scala\n",
    "               PoissonDistribution.scala\n",
    "               PoissonEntryPoint.scala\n",
    "    pom.xml\n",
    "    \n",
    "\n",
    "The [pom.xml](https://maven.apache.org/guides/introduction/introduction-to-the-pom.html#:~:text=Available%20Variables-,What%20is%20a%20POM%3F,default%20values%20for%20most%20projects.) file is the project object model and is a file which all contains all the instructions for [Maven](https://maven.apache.org/). I won't go into the details here, but I will say that Maven is a java tool to compile and package our code while [SBT](https://www.scala-sbt.org/) is the Scala equivalent. Since Scala is a [JVM language](https://en.wikipedia.org/wiki/List_of_JVM_languages) we can use either, however, I went with Maven since I'm more familiar with it and because examples with Py4J were much more easy to find.\n",
    "\n",
    "We package our code into a [uber jar](https://stackoverflow.com/questions/11947037/what-is-an-uber-jar) with the command:\n",
    "\n",
    "    mvn package \n",
    "    \n",
    "Then we can start our our Py4J Web server with the command:\n",
    "\n",
    "\n",
    "    java -jar target/poisson-1.0-jar-with-dependencies.jar\n",
    "\n",
    "Now we can start up our Jupyter notebook and connect Python to the JVM with the following code taken directly from [Py4J's](https://www.py4j.org/index.html#) home page"
   ]
  },
  {
   "cell_type": "code",
   "execution_count": 4,
   "metadata": {},
   "outputs": [],
   "source": [
    "from py4j.java_gateway import JavaGateway\n",
    "\n",
    "gateway = JavaGateway() \n",
    "\n",
    "app = gateway.entry_point"
   ]
  },
  {
   "cell_type": "markdown",
   "metadata": {},
   "source": [
    "The app is now the instantiated PoissonEntryPoint class.  We can see the class type in Python"
   ]
  },
  {
   "cell_type": "code",
   "execution_count": 5,
   "metadata": {},
   "outputs": [
    {
     "data": {
      "text/plain": [
       "py4j.java_gateway.JavaObject"
      ]
     },
     "execution_count": 5,
     "metadata": {},
     "output_type": "execute_result"
    }
   ],
   "source": [
    "type(app)"
   ]
  },
  {
   "cell_type": "markdown",
   "metadata": {},
   "source": [
    "As well as the methods to the class:"
   ]
  },
  {
   "cell_type": "code",
   "execution_count": 6,
   "metadata": {},
   "outputs": [
    {
     "data": {
      "text/plain": [
       "['Poisson',\n",
       " 'apply',\n",
       " 'canEqual',\n",
       " 'copy',\n",
       " 'equals',\n",
       " 'getClass',\n",
       " 'hashCode',\n",
       " 'notify',\n",
       " 'notifyAll',\n",
       " 'productArity',\n",
       " 'productElement',\n",
       " 'productIterator',\n",
       " 'productPrefix',\n",
       " 'toString',\n",
       " 'unapply',\n",
       " 'wait']"
      ]
     },
     "execution_count": 6,
     "metadata": {},
     "output_type": "execute_result"
    }
   ],
   "source": [
    "dir(app)"
   ]
  },
  {
   "cell_type": "markdown",
   "metadata": {},
   "source": [
    "We can see `Poisson` class method! Since PoissonEntryPoint is a [case class](https://docs.scala-lang.org/tour/case-classes.html) it comes with a number of default methods just like a [data class](https://realpython.com/python-data-classes/) in Python.\n",
    "\n",
    "We can then create a Poisson class instance and see that the value of $\\lambda$ is 3.0:"
   ]
  },
  {
   "cell_type": "code",
   "execution_count": 7,
   "metadata": {},
   "outputs": [
    {
     "data": {
      "text/plain": [
       "1.0"
      ]
     },
     "execution_count": 7,
     "metadata": {},
     "output_type": "execute_result"
    }
   ],
   "source": [
    "p1 = app.Poisson(1.0)\n",
    "p1.getLambda()"
   ]
  },
  {
   "cell_type": "markdown",
   "metadata": {},
   "source": [
    "We can then instantiate another Poisson object:"
   ]
  },
  {
   "cell_type": "code",
   "execution_count": 8,
   "metadata": {},
   "outputs": [],
   "source": [
    "p2 = app.Poisson(3.0)"
   ]
  },
  {
   "cell_type": "markdown",
   "metadata": {},
   "source": [
    "Note that the PoissonEntryPoint class the PoissonDistribution object is initailized within the Poisson function and not as attribute of the class. If the it were an attribute of the class it would the last commnand would change the $\\lambda$ of p1.  We can see the seperate values of $\\lambda$s:"
   ]
  },
  {
   "cell_type": "code",
   "execution_count": 9,
   "metadata": {},
   "outputs": [
    {
     "data": {
      "text/plain": [
       "1.0"
      ]
     },
     "execution_count": 9,
     "metadata": {},
     "output_type": "execute_result"
    }
   ],
   "source": [
    "p1.getLambda()"
   ]
  },
  {
   "cell_type": "code",
   "execution_count": 11,
   "metadata": {},
   "outputs": [
    {
     "data": {
      "text/plain": [
       "3.0"
      ]
     },
     "execution_count": 11,
     "metadata": {},
     "output_type": "execute_result"
    }
   ],
   "source": [
    "p2.getLambda()"
   ]
  },
  {
   "cell_type": "markdown",
   "metadata": {},
   "source": [
    "The really nice thing about Py4J *is that you can treat objects in the JVM as if they are Python objects.* For instance we can see the methods in the object:"
   ]
  },
  {
   "cell_type": "code",
   "execution_count": 12,
   "metadata": {},
   "outputs": [
    {
     "data": {
      "text/plain": [
       "['$anonfun$cdf$1',\n",
       " '$anonfun$getSum$1',\n",
       " '$anonfun$invCDF$1',\n",
       " '$anonfun$invCDF$2',\n",
       " '$anonfun$invCDF$3',\n",
       " '$anonfun$invCDF$4',\n",
       " '$anonfun$sample$1',\n",
       " '$anonfun$uniform$1',\n",
       " '$lessinit$greater$default$1',\n",
       " 'cdf',\n",
       " 'equals',\n",
       " 'getClass',\n",
       " 'getLambda',\n",
       " 'getSum',\n",
       " 'hashCode',\n",
       " 'invCDF',\n",
       " 'notify',\n",
       " 'notifyAll',\n",
       " 'prob',\n",
       " 'sample',\n",
       " 'setLambda',\n",
       " 'toString',\n",
       " 'uniform',\n",
       " 'wait']"
      ]
     },
     "execution_count": 12,
     "metadata": {},
     "output_type": "execute_result"
    }
   ],
   "source": [
    "dir(p1)"
   ]
  },
  {
   "cell_type": "markdown",
   "metadata": {},
   "source": [
    "We can then just use the methods in the class just like they would be used directly in Scala. For instance we can get the probability of $y=1$ when $\\lambda = 3$:"
   ]
  },
  {
   "cell_type": "code",
   "execution_count": 13,
   "metadata": {},
   "outputs": [
    {
     "data": {
      "text/plain": [
       "0.36787944117144233"
      ]
     },
     "execution_count": 13,
     "metadata": {},
     "output_type": "execute_result"
    }
   ],
   "source": [
    "p1.prob(1)"
   ]
  },
  {
   "cell_type": "markdown",
   "metadata": {},
   "source": [
    "Now let's generate a random samle from the Poisson object:"
   ]
  },
  {
   "cell_type": "code",
   "execution_count": 14,
   "metadata": {},
   "outputs": [],
   "source": [
    "sample = p1.sample(1000)"
   ]
  },
  {
   "cell_type": "code",
   "execution_count": 15,
   "metadata": {},
   "outputs": [
    {
     "data": {
      "text/plain": [
       "[0, 1, 2]"
      ]
     },
     "execution_count": 15,
     "metadata": {},
     "output_type": "execute_result"
    }
   ],
   "source": [
    "sample[:3]"
   ]
  },
  {
   "cell_type": "markdown",
   "metadata": {},
   "source": [
    "It looks like Py4J returns a Python list while the [PoissonDistribution class](https://github.com/mdh266/BayesBootstrapMLE/blob/main/src/main/scala/PoissonDistribution.scala) returns a  `java.util.List[Int]`:"
   ]
  },
  {
   "cell_type": "code",
   "execution_count": 16,
   "metadata": {},
   "outputs": [
    {
     "data": {
      "text/plain": [
       "py4j.java_collections.JavaList"
      ]
     },
     "execution_count": 16,
     "metadata": {},
     "output_type": "execute_result"
    }
   ],
   "source": [
    "type(sample)"
   ]
  },
  {
   "cell_type": "markdown",
   "metadata": {},
   "source": [
    "We can then convert it to a Python list"
   ]
  },
  {
   "cell_type": "code",
   "execution_count": 17,
   "metadata": {},
   "outputs": [
    {
     "data": {
      "text/plain": [
       "list"
      ]
     },
     "execution_count": 17,
     "metadata": {},
     "output_type": "execute_result"
    }
   ],
   "source": [
    "type(list(sample))"
   ]
  },
  {
   "cell_type": "markdown",
   "metadata": {},
   "source": [
    "Py4J can only serialize specific Java objects back to Python which is awesome!  This is also why I needed to convert to from a Scala `List[Int]` to a `java.util.List[Int]`, without it the returned object would just be a genera `Java Object`.\n",
    "\n",
    "Now we can sample, we can visualize the Poission distribution for different values of $\\lambda$"
   ]
  },
  {
   "cell_type": "code",
   "execution_count": 26,
   "metadata": {},
   "outputs": [
    {
     "data": {
      "text/plain": [
       "<seaborn.axisgrid.FacetGrid at 0x7fbe187e0d50>"
      ]
     },
     "execution_count": 26,
     "metadata": {},
     "output_type": "execute_result"
    },
    {
     "data": {
      "image/png": "[encoded data removed]",
      "text/plain": [
       "<Figure size 405.375x360 with 1 Axes>"
      ]
     },
     "metadata": {
      "needs_background": "light"
     },
     "output_type": "display_data"
    }
   ],
   "source": [
    "import pandas as pd\n",
    "import seaborn as sns\n",
    "\n",
    "df = pd.melt(\n",
    "        pd.DataFrame({\n",
    "            '1':list(app.Poisson(1.0).sample(100)),\n",
    "            '2':list(app.Poisson(2.0).sample(100)),\n",
    "            '3':list(app.Poisson(3.0).sample(100)),\n",
    "            '4':list(app.Poisson(4.0).sample(100)),\n",
    "            '5':list(app.Poisson(5.0).sample(100))\n",
    "        }),\n",
    "        var_name=[\"lambda\"]\n",
    ")\n",
    "\n",
    "sns.displot(df, x=\"value\", hue=\"lambda\", kind=\"kde\", height=5)"
   ]
  },
  {
   "cell_type": "markdown",
   "metadata": {},
   "source": [
    "Note that the negative values are not real and an artifaction caused by interpolation with [Kernel Density Esimation](https://en.wikipedia.org/wiki/Kernel_density_estimation).\n",
    "\n",
    "We can verify this:"
   ]
  },
  {
   "cell_type": "code",
   "execution_count": 27,
   "metadata": {},
   "outputs": [
    {
     "data": {
      "text/html": [
       "<div>\n",
       "<style scoped>\n",
       "    .dataframe tbody tr th:only-of-type {\n",
       "        vertical-align: middle;\n",
       "    }\n",
       "\n",
       "    .dataframe tbody tr th {\n",
       "        vertical-align: top;\n",
       "    }\n",
       "\n",
       "    .dataframe thead th {\n",
       "        text-align: right;\n",
       "    }\n",
       "</style>\n",
       "<table border=\"1\" class=\"dataframe\">\n",
       "  <thead>\n",
       "    <tr style=\"text-align: right;\">\n",
       "      <th></th>\n",
       "      <th>lambda</th>\n",
       "      <th>value</th>\n",
       "    </tr>\n",
       "  </thead>\n",
       "  <tbody>\n",
       "  </tbody>\n",
       "</table>\n",
       "</div>"
      ],
      "text/plain": [
       "Empty DataFrame\n",
       "Columns: [lambda, value]\n",
       "Index: []"
      ]
     },
     "execution_count": 27,
     "metadata": {},
     "output_type": "execute_result"
    }
   ],
   "source": [
    "df.query(\"value < 0\")"
   ]
  },
  {
   "cell_type": "markdown",
   "metadata": {},
   "source": [
    "Now let's get into the Maximum Likelyhood Estimator to estimate the $\\lambda$ for the distribution `p1`."
   ]
  },
  {
   "cell_type": "markdown",
   "metadata": {},
   "source": [
    "## 3. The Maximum Likelyhood Estimator <a class=\"anchor\" id=\"third-bullet\"></a>\n",
    "---------- \n",
    "\n",
    "First what is the difference between a statistic and an estimator?  A statistic is any function of a sample.  An **estimator** is any function of a sample that is used to estimate a population parameter.  The **maximum likelyhood estimator** is the value of a population distribution $\\lambda$ that maximizes the probability of observing the sample.  \n",
    "\n",
    "\n",
    "We can find the MLE from a random sample $y_1, y_2, \\, \\ldots \\,, y_{n}$ from $f(y_{i} \\vert \\, \\lambda)$ then the **likelyhood function** is defined as,\n",
    "\n",
    "$$ L(\\lambda  \\, \\vert y_1, \\, y_2, \\, \\ldots, \\, y_n)  \\; = \\; \\prod_{i=1}^{n}f(y_{i} \\, \\vert \\, \\lambda) $$\n",
    "\n",
    "\n",
    "Then we can find the MLE $\\widehat{\\lambda}$ such that, \n",
    "\n",
    "$$ \n",
    "\\frac{\\partial L(\\lambda \\, \\vert y_1, y_2, \\ldots, y_n)}{\\partial \\lambda}  \\; = \\; 0 \n",
    "$$\n",
    "\n",
    "I should remark that an estimator is a **random variable** as a [random variable](https://en.wikipedia.org/wiki/Random_variable) is any function of the sample space that is measurable and has values in the $\\mathbb{R}$.  The MLE has many important properties, the most important in my mind are some are,\n",
    "\n",
    "1. It is a consistent estimator.\n",
    "2. It is invariant, if $\\widehat{\\lambda}$ is the MLE of $\\lambda$, then for any function $\\tau(\\lambda)$, the MLE of $\\tau(\\lambda)$ is $\\tau(\\widehat{\\lambda})$.\n",
    "3. The MLE is an asymptotically normal estimator.  That is $\\widehat{\\lambda} \\; \\sim \\; N(\\lambda, \\, \\mathcal{I}^{-1/2})$. \n",
    "\n",
    "TTo explain the first property we, must note that as an estimator is a function of the sample space it is also a random variable.  Let $X_1, \\, \\ldots, \\, X_n$ be a sequence of random variables then $X_{i} \\; \\xrightarrow{\\mathcal{P}} \\; X$ if,\n",
    "\n",
    "$$\\forall \\epsilon > 0, \\; \\lim\\limits_{n \\rightarrow \\infty} P(\\vert X_i - X \\vert > \\epsilon ) \\; = \\; 0$$ \n",
    "\n",
    "then we say the random variable converges in probability. For an estimator this property of convergence is called **consistency**. Consistency is a necessary condition of any estimator in statistics and basically signifies that  estimator eventually settles down to constant or some probability distribution of values. \n",
    "\n",
    "The second property of the MLE allows us to transform our likelyhood function into one that is easier to calculat the MLE with, i.e. the log-likelyhood function. That is the MLE, $\\hat{\\lambda}$ will satisfy, \n",
    "\n",
    "$$ \\frac{\\partial \\log(L(\\lambda \\, \\vert y_1, \\, \\ldots, y_n ))}{\\partial \\lambda}  \\; = \\; 0 $$\n",
    "\n",
    "\n",
    "The third property of asymptotic normality of the MLE is helpful in modeling, since your standardized residuals are normal. Hence the sum of squares of the residuals are $\\chi^2$ distributed.  This allows us to define confidence intervals around of estimates. The term $\\mathcal{I}^{-1/2}$ is the [Fisher Information](https://en.wikipedia.org/wiki/Fisher_information) and will be discussed in the next section.\n",
    "\n",
    "\n",
    "For the Poisson distribution, the likelyhood function is \n",
    "\n",
    "$$\n",
    "\\begin{align} L(\\lambda  \\, \\vert y_1, \\, y_2, \\, \\ldots, \\, y_n)  \n",
    "\\; &= \\; \n",
    "\\prod_{i=1}^{n} \\frac{e^{-\\lambda} \\, \\lambda^{y_i}} {y_i!} \\newline\n",
    "&= \\; \n",
    "e^{-n \\, \\lambda} \\lambda^{n \\, \\bar{y}_{n}}  \\frac{1} {\\prod_{i=1}^{n} y_i!}\n",
    "\\end{align}\n",
    "$$\n",
    "\n",
    "We take the log of both sides and then setting the derivative equal to zero we find\n",
    "\n",
    "\n",
    "$$\n",
    "- n  \\,  + \\, \\frac{n \\, \\bar{y}_{n}}{\\widehat{\\lambda}} \\, = \\, 0\n",
    "$$\n",
    "\n",
    "Then solving for $\\hat{\\lambda}$ we find the MLE is,\n",
    "\n",
    "\n",
    "$$ \\widehat{\\lambda} \\, = \\, \\bar{y}_{n} $$\n"
   ]
  },
  {
   "cell_type": "code",
   "execution_count": 31,
   "metadata": {},
   "outputs": [
    {
     "name": "stdout",
     "output_type": "stream",
     "text": [
      "lambda = 3.052\n"
     ]
    }
   ],
   "source": [
    "def mle(sample):\n",
    "    return sum(list(sample)) / len(list(sample))\n",
    "\n",
    "lam = mle(p2.sample(1000))\n",
    "\n",
    "print(f\"lambda = {lam}\") "
   ]
  },
  {
   "cell_type": "markdown",
   "metadata": {},
   "source": [
    "Our estimate for $\\lambda$ is pretty close! \n",
    "\n",
    "Now, since the maximum likelihood estimator is the mean we know it satifies the [Central Limit Theorem](https://en.wikipedia.org/wiki/Central_limit_theorem),\n",
    "\n",
    "\n",
    "$$ \\bar{y}_{n} \\; \\xrightarrow{\\mathcal{D}} \\; N(\\lambda,\\lambda/n) $$\n",
    "\n",
    "Hence we can repeatedly sample `p1` and compute the distribution of the MLE for various values of sample size $n$ to show how the MLE converges in distribution."
   ]
  },
  {
   "cell_type": "code",
   "execution_count": 30,
   "metadata": {},
   "outputs": [],
   "source": [
    "# sample the MLE 100 times for each n = 10, 50, 100, 500, 1000\n",
    "samples = [ [ mle(p2.sample(n)) for k in range(100)] for n in [10, 50, 100, 500, 1000]]"
   ]
  },
  {
   "cell_type": "code",
   "execution_count": 104,
   "metadata": {},
   "outputs": [
    {
     "data": {
      "text/plain": [
       "<seaborn.axisgrid.FacetGrid at 0x7fd24b8af390>"
      ]
     },
     "execution_count": 104,
     "metadata": {},
     "output_type": "execute_result"
    },
    {
     "data": {
      "image/png": "[encoded data removed]",
      "text/plain": [
       "<Figure size 421.5x360 with 1 Axes>"
      ]
     },
     "metadata": {
      "needs_background": "light"
     },
     "output_type": "display_data"
    }
   ],
   "source": [
    "import numpy as np\n",
    "sample_df = pd.melt(\n",
    "                pd.DataFrame(np.array(samples).T, \n",
    "                             columns=['10','50','100','500','1000']),\n",
    "                var_name=[\"n\"]\n",
    ")\n",
    "\n",
    "# plot the MLE for various value of sample size\n",
    "sns.displot(sample_df, x=\"value\", hue=\"n\", kind=\"kde\", height=5,)"
   ]
  },
  {
   "cell_type": "markdown",
   "metadata": {},
   "source": [
    "As $n \\rightarrow \\infty$ we see the MLE $\\bar{y}_{n}$ has a distribution that is more sharply peaked around $3$ and hence shows that the esimator is converging to the true value!\n",
    "\n",
    "We have seen that the MLE $\\widehat{\\lambda_{n}}$ converges to the true value of $\\lambda$, but for any finite value of $n$ the esimator can be incorrect.  How to we measure our confidence in our estimator $\\widehat{\\lambda_{n}}$?  The answer is through confidence intervals and Fisher interval."
   ]
  },
  {
   "cell_type": "markdown",
   "metadata": {},
   "source": [
    "## 3. Confidence Intervals From The Fisher Information\n",
    "-------------------\n",
    "Given a distribution $y_{i} \\, \\sim \\, f(y \\, \\vert \\, \\alpha)$ for $i \\, = \\, 1, \\ldots , n$ and the likelyhood function,\n",
    "\n",
    "$$ L(\\alpha \\, | \\, \\textbf{y}) \\; = \\; \\prod_{i=1}^{n} \\,  f(y_i \\, \\vert \\, \\alpha) $$\n",
    "\n",
    "We define the [score statistic](https://en.wikipedia.org/wiki/Score_(statistics)) $S(\\alpha)$ to be,\n",
    "\n",
    "$$\n",
    "S(\\alpha) \\; = \\; \\frac{d\\log \\left(L(\\alpha \\, | \\, \\textbf{y}) \\right)}{d\\alpha} \n",
    "$$\n",
    "\n",
    "For a distribution from the [exponential family](https://en.wikipedia.org/wiki/Exponential_family) the score function satisfies,\n",
    "\n",
    "$$\n",
    "E_{y}[S] \\; = \\; 0\n",
    "$$\n",
    "\n",
    "Another important property of the score statistic is that it satisfies,\n",
    "\n",
    "$$ S(\\widehat{\\alpha})  \\; = \\; 0$$\n",
    "\n",
    "for the MLE $\\widehat{\\alpha}$.  This property can be used to compute the MLE using the so-called [scoring algorithm](https://en.wikipedia.org/wiki/Scoring_algorithm) which is equivalent to [Newton–Raphson method](https://en.wikipedia.org/wiki/Newton%27s_method). The later method is more frequently used in calculations as it general optimization method and has many efficient implmentations.\n",
    "\n",
    "The [**Fisher information**](https://en.wikipedia.org/wiki/Fisher_information) is defined as,\n",
    "\n",
    "\\begin{align}\n",
    "\\mathbb{I} \\; &= \\; \\text{Cov}[S] \\\\\n",
    "& = \\; \\text{Var}[ S S^{T}] \\\\\n",
    "& = \\; E_y[ - S'] \\\\\n",
    " &= \\; E_{y} \\left[  - \\frac{d^{2}\\log \\left(L(\\alpha \\, | \\, \\textbf{y}) \\right)}{d\\alpha^{2}}  \\right] \n",
    "\\end{align}\n",
    "\n",
    "The standard error for the maximum likelihood estimate $(\\widehat{\\alpha})$ will then be,\n",
    "\n",
    "$$ \\text{S.E.}(\\widehat{\\alpha}) \\; = \\; \\frac{1}{\\sqrt{\\mathcal{I}}}$$\n",
    "\n",
    "\n",
    "The curvature of the log-likelyhood at the MLE dictated by the Fisher information matrix. If $L$ flat then the $\\mathbb{I}$ is small, so the MLE is not stable or well defined.  High Fisher information tells us the MLE is well defined and stable.\n",
    "\n",
    "\n",
    "Now using Taylor's theorem on the score statistic we have that\n",
    "\n",
    "$$ S(\\alpha)  \\; = \\; \\underbrace{S(\\widehat{\\alpha})}_{0} \\, - \\, (\\alpha \\, - \\, \\widehat{\\alpha}) \\,\\mathcal{I}(\\widehat{\\alpha})$$\n",
    "\n",
    "Thus for a constant $\\mathbb{I}$, the MLE statifies\n",
    "\n",
    "$$E_{y}(\\widehat{\\alpha} \\, - \\, \\alpha) \\; =  \\; \\mathbb{I}^{-1}\\, E_{y}[S] \\; = \\; 0$$\n",
    "\n",
    "\n",
    "and the variance of the MLE is,\n",
    "\n",
    "\\begin{align}\n",
    "\\text{Var}(\\widehat{\\alpha}) \\; &= \\; E_{y }[(\\widehat{\\alpha} \\,  -\\, \\alpha)(\\widehat{\\alpha} \\, -\\, \\widehat{\\alpha} )^{T} ] \\\\\n",
    "\\; &= \\; \n",
    " \\mathbb{I}^{-1} \\, E_{y}[S S^{T}] \\,  \\mathbb{I}^{-1} \\\\\n",
    "&= \\;  \\mathbb{I}^{-1} \n",
    "\\end{align}\n",
    "\n",
    "Then for an estimator $\\alpha$ we know \n",
    "\n",
    "$$\\frac{(\\alpha \\, - \\, E(\\alpha))}{\\sqrt{\\text{Var}(\\alpha)}} \n",
    "\\; \\sim \\; \n",
    "N(0,1)\n",
    "\\qquad \\text{and}  \\qquad \n",
    "\\frac{(\\alpha \\, - \\, E(\\alpha))^{2}}{\\text{Var}(\\alpha)} \n",
    "\\; \\sim \\; \n",
    "\\chi^{2}(1) $$\n",
    "\n",
    " \n",
    "For the score statistic this then becomes,\n",
    "$$\\frac{S}{\\sqrt{\\mathbb{I}}}\n",
    "\\; \\sim \\; \n",
    "N(0,1)\n",
    "\\qquad \\text{and}  \\qquad \n",
    "\\frac{U^{2}}{\\mathbb{I}}\n",
    "\\; \\sim \\; \n",
    "\\chi^{2}(1) $$\n",
    "\n",
    "\n",
    "And for the MLE where the Fisher Information is approximately constant we have shown that is normal,\n",
    "\n",
    "\\begin{equation}\n",
    " \\widehat{\\alpha} \\; \\sim \\; N(\\alpha, \\, \\mathbb{I}^{-1})\n",
    "\\end{equation}\n",
    "\n",
    "These facts can be used to calculate confidence intervals for the MLE."
   ]
  },
  {
   "cell_type": "code",
   "execution_count": null,
   "metadata": {},
   "outputs": [],
   "source": []
  },
  {
   "cell_type": "markdown",
   "metadata": {},
   "source": [
    "# Bayesian Esimatators With PyMC3\n",
    "-----------"
   ]
  },
  {
   "cell_type": "code",
   "execution_count": 18,
   "metadata": {},
   "outputs": [],
   "source": [
    "from scipy import stats\n",
    "mean, var, std = stats.bayes_mvs(sample)"
   ]
  },
  {
   "cell_type": "code",
   "execution_count": 20,
   "metadata": {},
   "outputs": [
    {
     "name": "stderr",
     "output_type": "stream",
     "text": [
      "In /Users/mukeharmon/miniconda3/lib/python3.7/site-packages/matplotlib/mpl-data/stylelib/_classic_test.mplstyle: \n",
      "The text.latex.preview rcparam was deprecated in Matplotlib 3.3 and will be removed two minor releases later.\n",
      "In /Users/mukeharmon/miniconda3/lib/python3.7/site-packages/matplotlib/mpl-data/stylelib/_classic_test.mplstyle: \n",
      "The mathtext.fallback_to_cm rcparam was deprecated in Matplotlib 3.3 and will be removed two minor releases later.\n",
      "In /Users/mukeharmon/miniconda3/lib/python3.7/site-packages/matplotlib/mpl-data/stylelib/_classic_test.mplstyle: Support for setting the 'mathtext.fallback_to_cm' rcParam is deprecated since 3.3 and will be removed two minor releases later; use 'mathtext.fallback : 'cm' instead.\n",
      "In /Users/mukeharmon/miniconda3/lib/python3.7/site-packages/matplotlib/mpl-data/stylelib/_classic_test.mplstyle: \n",
      "The validate_bool_maybe_none function was deprecated in Matplotlib 3.3 and will be removed two minor releases later.\n",
      "In /Users/mukeharmon/miniconda3/lib/python3.7/site-packages/matplotlib/mpl-data/stylelib/_classic_test.mplstyle: \n",
      "The savefig.jpeg_quality rcparam was deprecated in Matplotlib 3.3 and will be removed two minor releases later.\n",
      "In /Users/mukeharmon/miniconda3/lib/python3.7/site-packages/matplotlib/mpl-data/stylelib/_classic_test.mplstyle: \n",
      "The keymap.all_axes rcparam was deprecated in Matplotlib 3.3 and will be removed two minor releases later.\n",
      "In /Users/mukeharmon/miniconda3/lib/python3.7/site-packages/matplotlib/mpl-data/stylelib/_classic_test.mplstyle: \n",
      "The animation.avconv_path rcparam was deprecated in Matplotlib 3.3 and will be removed two minor releases later.\n",
      "In /Users/mukeharmon/miniconda3/lib/python3.7/site-packages/matplotlib/mpl-data/stylelib/_classic_test.mplstyle: \n",
      "The animation.avconv_args rcparam was deprecated in Matplotlib 3.3 and will be removed two minor releases later.\n"
     ]
    }
   ],
   "source": [
    "import matplotlib.pyplot as plt\n",
    "import numpy as np\n",
    "import torch\n",
    "\n",
    "import pyro\n",
    "import pyro.infer\n",
    "import pyro.optim\n",
    "import pyro.distributions as dist\n",
    "\n",
    "pyro.set_rng_seed(101)"
   ]
  },
  {
   "cell_type": "code",
   "execution_count": 21,
   "metadata": {},
   "outputs": [],
   "source": [
    "def scale(guess):\n",
    "    weight = pyro.sample(\"weight\", dist.Normal(guess, 1.0))\n",
    "    return pyro.sample(\"measurement\", dist.Normal(weight, 0.75))"
   ]
  },
  {
   "cell_type": "code",
   "execution_count": 22,
   "metadata": {},
   "outputs": [],
   "source": [
    "conditioned_scale = pyro.condition(scale, data={\"measurement\": 9.5})"
   ]
  },
  {
   "cell_type": "code",
   "execution_count": 28,
   "metadata": {},
   "outputs": [
    {
     "data": {
      "text/plain": [
       "tensor(0.4201)"
      ]
     },
     "execution_count": 28,
     "metadata": {},
     "output_type": "execute_result"
    }
   ],
   "source": [
    "scale(1.0)"
   ]
  },
  {
   "cell_type": "code",
   "execution_count": null,
   "metadata": {},
   "outputs": [],
   "source": []
  },
  {
   "cell_type": "code",
   "execution_count": null,
   "metadata": {},
   "outputs": [],
   "source": []
  }
 ],
 "metadata": {
  "kernelspec": {
   "display_name": "Python 3",
   "language": "python",
   "name": "python3"
  },
  "language_info": {
   "codemirror_mode": {
    "name": "ipython",
    "version": 3
   },
   "file_extension": ".py",
   "mimetype": "text/x-python",
   "name": "python",
   "nbconvert_exporter": "python",
   "pygments_lexer": "ipython3",
   "version": "3.7.7"
  }
 },
 "nbformat": 4,
 "nbformat_minor": 4
}
