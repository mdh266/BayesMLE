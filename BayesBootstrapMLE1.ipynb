{
 "cells": [
  {
   "cell_type": "markdown",
   "metadata": {},
   "source": [
    "# Bayes, Bootstrap, MLE & All That\n",
    "-----\n",
    "\n",
    "In this post I want to go back to the basics of statistics, but from an advanced point of view both from a theoretical point of view and technical point of view. The point is go back to the basics of estimating a single parameter value and then quantifying the uncertantity in the estimate using variou methods. In general I will take three approaches to this two of which are [frequentist](https://en.wikipedia.org/wiki/Frequentist_inference) and one that is [Bayesian](https://en.wikipedia.org/wiki/Bayesian_statistics). I admit, Im not as familar with Bayesian methods and therefore sticking to a simple example of estimating a single parameter. I don't believe one approach to statistics is inherently better than the other, but have found so-called frequentist for me to be easier to understand, easier to implement and additionally found Fisherian approaches satisfying from a theoretical point of view.\n",
    "\n",
    "The title for this post is inspired by [Div, Grad, Curl & All That](https://www.google.com/books/edition/_/sembQgAACAAJ?hl=en) which I used as a undergraduate to help learn vector calculus.\n",
    "\n",
    "\n",
    "## 1. Using A Poisson Distribution Written In Scala with Py4J\n",
    "---------------\n",
    "\n",
    "The first thing we need is data and for that purposes I wrote a [Poisson distribution in Scala](https://github.com/mdh266/PoissonDistributionInScala). The Poisson distribution is a probability distribution for a random variable $y$ that represents some count phenomena, i.e. a number of non-zero integer occurences in some fixed time frame.  For example the number of trains passing through a station per day or the number of customers that visit a website per hour are governed by Poisson distribution. The disibution is,\n",
    "\n",
    "$$ p(y \\, = \\, k)  \\; = \\; \\frac{\\lambda^{k} e^{-\\lambda} }{k!} $$\n",
    "\n",
    "The parameter $\\lambda$ is the rate variable, i.e. the true number of customers \n",
    "\n",
    "But why did I write my distribution in Scala? Well, I like Scala and enjoyed the challenge of writing a Poisson distribution using a functional approach. I also wanted to learn more about how to use [Py4J](https://www.py4j.org/) which can be used to work with functions and objects in the JVM from Python. [Apache Spark](https://spark.apache.org/) actually uses Py4J in PySpark to write Python wrappers for Scala code. I've used both PySpark and Spark in Scala and this gave me an opportunity to understand how PySpark works better.\n",
    "\n",
    "The first was to create the Poisson class as I did this [project](https://github.com/mdh266/PoissonDistributionInScala), however, one key difference is the return value of any public value needs to be Java object. Specifically the [sample](https://github.com/mdh266/BayesBootstrapMLE/blob/main/src/main/scala/Poisson.scala) method needs to return a Java List ([java.util.List[Int]](https://www.javatpoint.com/java-list)) of integers. I originally tried returning a [Scala List](https://www.scala-lang.org/api/current/scala/collection/immutable/List.html) which worked fine in pure Scala, but when Py4J was not able to serialize this object so well and Python type of returned list was \"Java Object\".\n",
    "\n",
    "In order to use this class from Python we need to do three things from the Scala point of view:\n",
    "\n",
    "1. Create a [Gateway Server](https://www.py4j.org/_static/javadoc/index.html?py4j/GatewayServer.html)\n",
    "2. Create a class entrypoint to allow for setting object attributes outside of the constructor\n",
    "3. Package the code as a jar using a build tool such as [Maven](https://maven.apache.org/) or [SBT](https://www.scala-sbt.org/).\n",
    "\n",
    "\n",
    "The first step is pretty straight forward to from the [Py4J Documentation](https://www.py4j.org/getting_started.html) and is in the [Main.Scala](https://github.com/mdh266/BayesBootstrapMLE/blob/main/src/main/scala/Main.scala) object:\n",
    "\n",
    "    import py4j.GatewayServer\n",
    "\n",
    "    object Main {\n",
    "        def main(args: Array[String]) = {\n",
    "            val server = new GatewayServer(new PoissonEntryPoint())\n",
    "            server.start()\n",
    "            System.out.println(\"Gateway Server Started\")\n",
    "        }\n",
    "    }\n",
    "    \n",
    "The GatewayServer in the author's own words *it allows Python programs to communicate with the JVM through a local network socket.*  The GatewayServer takes an *entrypoint* as a parameter which can be any object, see [here](https://www.py4j.org/getting_started.html#writing-the-python-program).  However, the entrypoint doesn't really offer a way for us to pass the $\\lambda$ value from [Python](https://www.py4j.org/getting_started.html#writing-the-python-program) to the Poisson constructor. To get around this I create a [PoissonEntryPoint](https://github.com/mdh266/BayesBootstrapMLE/blob/main/src/main/scala/PoissonEntryPoint.scala) case class:\n",
    "\n",
    "    case class PoissonEntryPoint() {\n",
    "\n",
    "        def Poisson(lambda : Double) : PoissonDistribution = {\n",
    "            var p = new PoissonDistribution()\n",
    "            p.setLambda(lambda)\n",
    "            p\n",
    "        }\n",
    "\n",
    "\n",
    "    }\n",
    "\n",
    "This case class really just acts a [Singleton](https://docs.scala-lang.org/tour/singleton-objects.html), but has a class instead of an object. The point of this class is simply to be able to create a Poisson class with a instance after starting GatewayServer.  \n",
    "\n",
    "Now let's talk about how the project structure and packaging it for use.  The project structure is:\n",
    "\n",
    "    src/\n",
    "       main/\n",
    "           scala/\n",
    "               Main.scala\n",
    "               PoissonDistribution.scala\n",
    "               PoissonEntryPoint.scala\n",
    "    pom.xml\n",
    "    \n",
    "\n",
    "The [pom.xml](https://maven.apache.org/guides/introduction/introduction-to-the-pom.html#:~:text=Available%20Variables-,What%20is%20a%20POM%3F,default%20values%20for%20most%20projects.) file is the project object model and is a file which all contains all the instructions for [Maven](https://maven.apache.org/). I wont go into the details here, but I will say that Maven is a java tool to compile and package our code while SBT is the Scala equivalent. Since Scala is a [JVM language](https://en.wikipedia.org/wiki/List_of_JVM_languages) we can use either, however, I went with Maven since I'm more familiar with it and because examples with Py4J were much more easy to find.\n",
    "\n",
    "We package our code into a [uber jar](https://stackoverflow.com/questions/11947037/what-is-an-uber-jar) with the command:\n",
    "\n",
    "    mvn package \n",
    "    \n",
    "Then we can start our our Py4J Web server with the command:\n",
    "\n",
    "\n",
    "    java -jar target/poisson-1.0-jar-with-dependencies.jar\n",
    "\n",
    "Now we can start up our Jupyter notebook and connect Python to the JVM with the following code taken directly from [Py4J's](https://www.py4j.org/index.html#) home page"
   ]
  },
  {
   "cell_type": "code",
   "execution_count": 9,
   "metadata": {},
   "outputs": [],
   "source": [
    "from py4j.java_gateway import JavaGateway\n",
    "\n",
    "gateway = JavaGateway() \n",
    "\n",
    "app = gateway.entry_point"
   ]
  },
  {
   "cell_type": "markdown",
   "metadata": {},
   "source": [
    "The app is now the instantiated PoissonEntryPoint class.  We can see the class type in Python"
   ]
  },
  {
   "cell_type": "code",
   "execution_count": 10,
   "metadata": {},
   "outputs": [
    {
     "data": {
      "text/plain": [
       "py4j.java_gateway.JavaObject"
      ]
     },
     "execution_count": 10,
     "metadata": {},
     "output_type": "execute_result"
    }
   ],
   "source": [
    "type(app)"
   ]
  },
  {
   "cell_type": "markdown",
   "metadata": {},
   "source": [
    "As well as the methods to the class:"
   ]
  },
  {
   "cell_type": "code",
   "execution_count": 11,
   "metadata": {},
   "outputs": [
    {
     "data": {
      "text/plain": [
       "['Poisson',\n",
       " 'apply',\n",
       " 'canEqual',\n",
       " 'copy',\n",
       " 'equals',\n",
       " 'getClass',\n",
       " 'hashCode',\n",
       " 'notify',\n",
       " 'notifyAll',\n",
       " 'productArity',\n",
       " 'productElement',\n",
       " 'productIterator',\n",
       " 'productPrefix',\n",
       " 'toString',\n",
       " 'unapply',\n",
       " 'wait']"
      ]
     },
     "execution_count": 11,
     "metadata": {},
     "output_type": "execute_result"
    }
   ],
   "source": [
    "dir(app)"
   ]
  },
  {
   "cell_type": "markdown",
   "metadata": {},
   "source": [
    "We can see `Poisson` class method! Since PoissonEntryPoint is a [case class](https://docs.scala-lang.org/tour/case-classes.html) it comes with a number of default methods just like a [data class](https://realpython.com/python-data-classes/) in Python.\n",
    "\n",
    "We can then create a Poisson class instance and see that the value of $\\lambda$ is 3.0:"
   ]
  },
  {
   "cell_type": "code",
   "execution_count": 12,
   "metadata": {},
   "outputs": [
    {
     "data": {
      "text/plain": [
       "3.0"
      ]
     },
     "execution_count": 12,
     "metadata": {},
     "output_type": "execute_result"
    }
   ],
   "source": [
    "p1 = app.Poisson(3.0)\n",
    "p1.getLambda()"
   ]
  },
  {
   "cell_type": "markdown",
   "metadata": {},
   "source": [
    "We can then instantiate another Poisson object:"
   ]
  },
  {
   "cell_type": "code",
   "execution_count": 13,
   "metadata": {},
   "outputs": [],
   "source": [
    "p2 = app.Poisson(4.0)"
   ]
  },
  {
   "cell_type": "markdown",
   "metadata": {},
   "source": [
    "Note that the PoissonEntryPoint class the PoissonDistribution object is initailized within the Poisson function and not as attribute of the class. If the it were an attribute of the class it would the last commnand would change the $\\lambda$ of p1.  We can see the seperate values of $\\lambda$s:"
   ]
  },
  {
   "cell_type": "code",
   "execution_count": 14,
   "metadata": {},
   "outputs": [
    {
     "data": {
      "text/plain": [
       "3.0"
      ]
     },
     "execution_count": 14,
     "metadata": {},
     "output_type": "execute_result"
    }
   ],
   "source": [
    "p1.getLambda()"
   ]
  },
  {
   "cell_type": "code",
   "execution_count": 15,
   "metadata": {},
   "outputs": [
    {
     "data": {
      "text/plain": [
       "4.0"
      ]
     },
     "execution_count": 15,
     "metadata": {},
     "output_type": "execute_result"
    }
   ],
   "source": [
    "p2.getLambda()"
   ]
  },
  {
   "cell_type": "markdown",
   "metadata": {},
   "source": [
    "The really nice thing about Py4J is that you can treat objects in the JVM as if they are Python objects. For instance we can see the methods in the object:"
   ]
  },
  {
   "cell_type": "code",
   "execution_count": 16,
   "metadata": {},
   "outputs": [
    {
     "data": {
      "text/plain": [
       "['$anonfun$cdf$1',\n",
       " '$anonfun$getSum$1',\n",
       " '$anonfun$invCDF$1',\n",
       " '$anonfun$invCDF$2',\n",
       " '$anonfun$invCDF$3',\n",
       " '$anonfun$invCDF$4',\n",
       " '$anonfun$sample$1',\n",
       " '$anonfun$uniform$1',\n",
       " '$lessinit$greater$default$1',\n",
       " 'cdf',\n",
       " 'equals',\n",
       " 'getClass',\n",
       " 'getLambda',\n",
       " 'getSum',\n",
       " 'hashCode',\n",
       " 'invCDF',\n",
       " 'notify',\n",
       " 'notifyAll',\n",
       " 'prob',\n",
       " 'sample',\n",
       " 'setLambda',\n",
       " 'toString',\n",
       " 'uniform',\n",
       " 'wait']"
      ]
     },
     "execution_count": 16,
     "metadata": {},
     "output_type": "execute_result"
    }
   ],
   "source": [
    "dir(p1)"
   ]
  },
  {
   "cell_type": "markdown",
   "metadata": {},
   "source": [
    "We can then just use the methods in the class just like they would be used directly in Scala. For instance we can get the probability of $y=1$ when $\\lambda = 3$:"
   ]
  },
  {
   "cell_type": "code",
   "execution_count": 17,
   "metadata": {},
   "outputs": [
    {
     "data": {
      "text/plain": [
       "0.14936120510359183"
      ]
     },
     "execution_count": 17,
     "metadata": {},
     "output_type": "execute_result"
    }
   ],
   "source": [
    "p1.prob(1)"
   ]
  },
  {
   "cell_type": "markdown",
   "metadata": {},
   "source": [
    "Now let's generate a random samle from the Poisson object:"
   ]
  },
  {
   "cell_type": "code",
   "execution_count": 20,
   "metadata": {},
   "outputs": [],
   "source": [
    "sample = p1.sample(1000)"
   ]
  },
  {
   "cell_type": "code",
   "execution_count": 21,
   "metadata": {},
   "outputs": [
    {
     "data": {
      "text/plain": [
       "[3, 5, 2]"
      ]
     },
     "execution_count": 21,
     "metadata": {},
     "output_type": "execute_result"
    }
   ],
   "source": [
    "sample[:3]"
   ]
  },
  {
   "cell_type": "markdown",
   "metadata": {},
   "source": [
    "It looks like Py4J returns a Python list while the [PoissonDistribution class](https://github.com/mdh266/BayesBootstrapMLE/blob/main/src/main/scala/PoissonDistribution.scala)) returns   `java.util.List[Int]`.  Py4J can only serialize specific Java objects back to Python which is awesome!  This is also why I needed to convert to from a Scala `List[Int]` to a `ava.util.List[Int]`, without it the returned object would just be a genera `Java Object`.  \n",
    "\n",
    "\n",
    "Now that we have our sample, let's get into the Maximum Likelyhood Estimator to estimate the $\\lambda$ for the distribution that generated our sample."
   ]
  },
  {
   "cell_type": "markdown",
   "metadata": {},
   "source": [
    "## 2. The Maximum Likelyhood Estimator \n",
    "----------"
   ]
  },
  {
   "cell_type": "code",
   "execution_count": null,
   "metadata": {},
   "outputs": [],
   "source": [
    "lam = sum(x) / len(x)\n",
    "print(f\"lambda = {lam}\") "
   ]
  },
  {
   "cell_type": "markdown",
   "metadata": {},
   "source": []
  },
  {
   "cell_type": "code",
   "execution_count": 3,
   "metadata": {},
   "outputs": [],
   "source": []
  },
  {
   "cell_type": "markdown",
   "metadata": {},
   "source": []
  },
  {
   "cell_type": "code",
   "execution_count": 7,
   "metadata": {},
   "outputs": [
    {
     "name": "stdout",
     "output_type": "stream",
     "text": [
      "lambda = 2.9927\n"
     ]
    }
   ],
   "source": []
  },
  {
   "cell_type": "markdown",
   "metadata": {},
   "source": [
    "why Poisson(2).prob(2) == Poisson(2).prob(3)?"
   ]
  },
  {
   "cell_type": "code",
   "execution_count": 63,
   "metadata": {},
   "outputs": [
    {
     "data": {
      "text/plain": [
       "0.22404180765538775"
      ]
     },
     "execution_count": 63,
     "metadata": {},
     "output_type": "execute_result"
    }
   ],
   "source": [
    "p.prob(2)"
   ]
  },
  {
   "cell_type": "code",
   "execution_count": 64,
   "metadata": {},
   "outputs": [
    {
     "data": {
      "text/plain": [
       "0.14936120510359183"
      ]
     },
     "execution_count": 64,
     "metadata": {},
     "output_type": "execute_result"
    }
   ],
   "source": [
    "p.prob(1)"
   ]
  },
  {
   "cell_type": "code",
   "execution_count": 65,
   "metadata": {},
   "outputs": [
    {
     "data": {
      "text/plain": [
       "0.22404180765538775"
      ]
     },
     "execution_count": 65,
     "metadata": {},
     "output_type": "execute_result"
    }
   ],
   "source": [
    "p.prob(3)"
   ]
  },
  {
   "cell_type": "code",
   "execution_count": 57,
   "metadata": {},
   "outputs": [],
   "source": [
    "p.setLambda(5.0)"
   ]
  },
  {
   "cell_type": "code",
   "execution_count": 59,
   "metadata": {},
   "outputs": [
    {
     "data": {
      "text/plain": [
       "5.0"
      ]
     },
     "execution_count": 59,
     "metadata": {},
     "output_type": "execute_result"
    }
   ],
   "source": [
    "p.getLambda()"
   ]
  },
  {
   "cell_type": "markdown",
   "metadata": {},
   "source": [
    "## 3. Confidence Intervals From The Fisher Information\n",
    "-------------------"
   ]
  },
  {
   "cell_type": "markdown",
   "metadata": {},
   "source": [
    "## 4. The Bootstrap\n",
    "----------------"
   ]
  }
 ],
 "metadata": {
  "kernelspec": {
   "display_name": "Python 3",
   "language": "python",
   "name": "python3"
  },
  "language_info": {
   "codemirror_mode": {
    "name": "ipython",
    "version": 3
   },
   "file_extension": ".py",
   "mimetype": "text/x-python",
   "name": "python",
   "nbconvert_exporter": "python",
   "pygments_lexer": "ipython3",
   "version": "3.7.7"
  }
 },
 "nbformat": 4,
 "nbformat_minor": 4
}
